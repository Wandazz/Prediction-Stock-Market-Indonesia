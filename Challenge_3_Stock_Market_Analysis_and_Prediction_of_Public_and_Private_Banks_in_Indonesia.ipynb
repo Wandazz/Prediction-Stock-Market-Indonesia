{
 "cells": [
  {
   "cell_type": "markdown",
   "metadata": {
    "id": "PBEOUbwXWLgF"
   },
   "source": [
    "# **Import Packages**"
   ]
  },
  {
   "cell_type": "code",
   "execution_count": 1,
   "metadata": {
    "id": "HC5Fnx4pWPfq"
   },
   "outputs": [],
   "source": [
    "import math\n",
    "import pandas_datareader as web\n",
    "import numpy as np\n",
    "import pandas as pd\n",
    "from sklearn.preprocessing import MinMaxScaler\n",
    "from keras.models import Sequential\n",
    "from keras.layers import Dense, LSTM\n",
    "import matplotlib.pyplot as plt\n",
    "plt.style.use('fivethirtyeight')"
   ]
  },
  {
   "cell_type": "markdown",
   "metadata": {
    "id": "oop3NEfOV7ig"
   },
   "source": [
    "# **Load Datasets**"
   ]
  },
  {
   "cell_type": "code",
   "execution_count": 2,
   "metadata": {
    "colab": {
     "base_uri": "https://localhost:8080/",
     "height": 453
    },
    "id": "nY56bDU7V0mK",
    "outputId": "34112ec5-78c3-4a07-f841-b18eec445394"
   },
   "outputs": [
    {
     "data": {
      "text/html": [
       "<div>\n",
       "<style scoped>\n",
       "    .dataframe tbody tr th:only-of-type {\n",
       "        vertical-align: middle;\n",
       "    }\n",
       "\n",
       "    .dataframe tbody tr th {\n",
       "        vertical-align: top;\n",
       "    }\n",
       "\n",
       "    .dataframe thead th {\n",
       "        text-align: right;\n",
       "    }\n",
       "</style>\n",
       "<table border=\"1\" class=\"dataframe\">\n",
       "  <thead>\n",
       "    <tr style=\"text-align: right;\">\n",
       "      <th></th>\n",
       "      <th>High</th>\n",
       "      <th>Low</th>\n",
       "      <th>Open</th>\n",
       "      <th>Close</th>\n",
       "      <th>Volume</th>\n",
       "      <th>Adj Close</th>\n",
       "    </tr>\n",
       "    <tr>\n",
       "      <th>Date</th>\n",
       "      <th></th>\n",
       "      <th></th>\n",
       "      <th></th>\n",
       "      <th></th>\n",
       "      <th></th>\n",
       "      <th></th>\n",
       "    </tr>\n",
       "  </thead>\n",
       "  <tbody>\n",
       "    <tr>\n",
       "      <th>2003-12-23</th>\n",
       "      <td>127.5</td>\n",
       "      <td>122.5</td>\n",
       "      <td>125.0</td>\n",
       "      <td>125.0</td>\n",
       "      <td>278485000.0</td>\n",
       "      <td>1.760418</td>\n",
       "    </tr>\n",
       "    <tr>\n",
       "      <th>2003-12-29</th>\n",
       "      <td>125.0</td>\n",
       "      <td>120.0</td>\n",
       "      <td>125.0</td>\n",
       "      <td>125.0</td>\n",
       "      <td>267980000.0</td>\n",
       "      <td>1.760418</td>\n",
       "    </tr>\n",
       "    <tr>\n",
       "      <th>2003-12-30</th>\n",
       "      <td>125.0</td>\n",
       "      <td>122.5</td>\n",
       "      <td>125.0</td>\n",
       "      <td>125.0</td>\n",
       "      <td>307350000.0</td>\n",
       "      <td>1.760418</td>\n",
       "    </tr>\n",
       "    <tr>\n",
       "      <th>2004-01-02</th>\n",
       "      <td>127.5</td>\n",
       "      <td>122.5</td>\n",
       "      <td>125.0</td>\n",
       "      <td>127.5</td>\n",
       "      <td>228115000.0</td>\n",
       "      <td>1.795627</td>\n",
       "    </tr>\n",
       "    <tr>\n",
       "      <th>2004-01-05</th>\n",
       "      <td>127.5</td>\n",
       "      <td>122.5</td>\n",
       "      <td>125.0</td>\n",
       "      <td>127.5</td>\n",
       "      <td>343335000.0</td>\n",
       "      <td>1.795627</td>\n",
       "    </tr>\n",
       "  </tbody>\n",
       "</table>\n",
       "</div>"
      ],
      "text/plain": [
       "             High    Low   Open  Close       Volume  Adj Close\n",
       "Date                                                          \n",
       "2003-12-23  127.5  122.5  125.0  125.0  278485000.0   1.760418\n",
       "2003-12-29  125.0  120.0  125.0  125.0  267980000.0   1.760418\n",
       "2003-12-30  125.0  122.5  125.0  125.0  307350000.0   1.760418\n",
       "2004-01-02  127.5  122.5  125.0  127.5  228115000.0   1.795627\n",
       "2004-01-05  127.5  122.5  125.0  127.5  343335000.0   1.795627"
      ]
     },
     "metadata": {
      "tags": []
     },
     "output_type": "display_data"
    },
    {
     "data": {
      "text/html": [
       "<div>\n",
       "<style scoped>\n",
       "    .dataframe tbody tr th:only-of-type {\n",
       "        vertical-align: middle;\n",
       "    }\n",
       "\n",
       "    .dataframe tbody tr th {\n",
       "        vertical-align: top;\n",
       "    }\n",
       "\n",
       "    .dataframe thead th {\n",
       "        text-align: right;\n",
       "    }\n",
       "</style>\n",
       "<table border=\"1\" class=\"dataframe\">\n",
       "  <thead>\n",
       "    <tr style=\"text-align: right;\">\n",
       "      <th></th>\n",
       "      <th>High</th>\n",
       "      <th>Low</th>\n",
       "      <th>Open</th>\n",
       "      <th>Close</th>\n",
       "      <th>Volume</th>\n",
       "      <th>Adj Close</th>\n",
       "    </tr>\n",
       "    <tr>\n",
       "      <th>Date</th>\n",
       "      <th></th>\n",
       "      <th></th>\n",
       "      <th></th>\n",
       "      <th></th>\n",
       "      <th></th>\n",
       "      <th></th>\n",
       "    </tr>\n",
       "  </thead>\n",
       "  <tbody>\n",
       "    <tr>\n",
       "      <th>2020-10-19</th>\n",
       "      <td>3290.0</td>\n",
       "      <td>3230.0</td>\n",
       "      <td>3260.0</td>\n",
       "      <td>3280.0</td>\n",
       "      <td>96199300.0</td>\n",
       "      <td>3280.0</td>\n",
       "    </tr>\n",
       "    <tr>\n",
       "      <th>2020-10-20</th>\n",
       "      <td>3290.0</td>\n",
       "      <td>3210.0</td>\n",
       "      <td>3280.0</td>\n",
       "      <td>3250.0</td>\n",
       "      <td>134038300.0</td>\n",
       "      <td>3250.0</td>\n",
       "    </tr>\n",
       "    <tr>\n",
       "      <th>2020-10-21</th>\n",
       "      <td>3310.0</td>\n",
       "      <td>3230.0</td>\n",
       "      <td>3280.0</td>\n",
       "      <td>3240.0</td>\n",
       "      <td>116981800.0</td>\n",
       "      <td>3240.0</td>\n",
       "    </tr>\n",
       "    <tr>\n",
       "      <th>2020-10-22</th>\n",
       "      <td>3300.0</td>\n",
       "      <td>3200.0</td>\n",
       "      <td>3220.0</td>\n",
       "      <td>3300.0</td>\n",
       "      <td>160136600.0</td>\n",
       "      <td>3300.0</td>\n",
       "    </tr>\n",
       "    <tr>\n",
       "      <th>2020-10-23</th>\n",
       "      <td>3350.0</td>\n",
       "      <td>3270.0</td>\n",
       "      <td>3350.0</td>\n",
       "      <td>3290.0</td>\n",
       "      <td>117246500.0</td>\n",
       "      <td>3290.0</td>\n",
       "    </tr>\n",
       "  </tbody>\n",
       "</table>\n",
       "</div>"
      ],
      "text/plain": [
       "              High     Low    Open   Close       Volume  Adj Close\n",
       "Date                                                              \n",
       "2020-10-19  3290.0  3230.0  3260.0  3280.0   96199300.0     3280.0\n",
       "2020-10-20  3290.0  3210.0  3280.0  3250.0  134038300.0     3250.0\n",
       "2020-10-21  3310.0  3230.0  3280.0  3240.0  116981800.0     3240.0\n",
       "2020-10-22  3300.0  3200.0  3220.0  3300.0  160136600.0     3300.0\n",
       "2020-10-23  3350.0  3270.0  3350.0  3290.0  117246500.0     3290.0"
      ]
     },
     "metadata": {
      "tags": []
     },
     "output_type": "display_data"
    }
   ],
   "source": [
    "bbri = web.DataReader('BBRI.jk',\n",
    "                    data_source='yahoo',\n",
    "                    start='2003-12-23',\n",
    "                    end='2020-10-23')\n",
    "\n",
    "display(bbri.head())\n",
    "display(bbri.tail())"
   ]
  },
  {
   "cell_type": "code",
   "execution_count": 3,
   "metadata": {
    "colab": {
     "base_uri": "https://localhost:8080/",
     "height": 453
    },
    "id": "uep9UnbnWbOl",
    "outputId": "a42861de-be1d-48ca-fe43-480b88492177"
   },
   "outputs": [
    {
     "data": {
      "text/html": [
       "<div>\n",
       "<style scoped>\n",
       "    .dataframe tbody tr th:only-of-type {\n",
       "        vertical-align: middle;\n",
       "    }\n",
       "\n",
       "    .dataframe tbody tr th {\n",
       "        vertical-align: top;\n",
       "    }\n",
       "\n",
       "    .dataframe thead th {\n",
       "        text-align: right;\n",
       "    }\n",
       "</style>\n",
       "<table border=\"1\" class=\"dataframe\">\n",
       "  <thead>\n",
       "    <tr style=\"text-align: right;\">\n",
       "      <th></th>\n",
       "      <th>High</th>\n",
       "      <th>Low</th>\n",
       "      <th>Open</th>\n",
       "      <th>Close</th>\n",
       "      <th>Volume</th>\n",
       "      <th>Adj Close</th>\n",
       "    </tr>\n",
       "    <tr>\n",
       "      <th>Date</th>\n",
       "      <th></th>\n",
       "      <th></th>\n",
       "      <th></th>\n",
       "      <th></th>\n",
       "      <th></th>\n",
       "      <th></th>\n",
       "    </tr>\n",
       "  </thead>\n",
       "  <tbody>\n",
       "    <tr>\n",
       "      <th>2003-12-23</th>\n",
       "      <td>1327.199951</td>\n",
       "      <td>1232.400024</td>\n",
       "      <td>1232.400024</td>\n",
       "      <td>1232.400024</td>\n",
       "      <td>426687.0</td>\n",
       "      <td>728.547791</td>\n",
       "    </tr>\n",
       "    <tr>\n",
       "      <th>2003-12-29</th>\n",
       "      <td>1303.500000</td>\n",
       "      <td>1232.400024</td>\n",
       "      <td>1232.400024</td>\n",
       "      <td>1303.500000</td>\n",
       "      <td>159810.0</td>\n",
       "      <td>770.579285</td>\n",
       "    </tr>\n",
       "    <tr>\n",
       "      <th>2003-12-30</th>\n",
       "      <td>1303.500000</td>\n",
       "      <td>1232.400024</td>\n",
       "      <td>1303.500000</td>\n",
       "      <td>1232.400024</td>\n",
       "      <td>365506.0</td>\n",
       "      <td>728.547791</td>\n",
       "    </tr>\n",
       "    <tr>\n",
       "      <th>2004-01-02</th>\n",
       "      <td>1256.099976</td>\n",
       "      <td>1232.400024</td>\n",
       "      <td>1232.400024</td>\n",
       "      <td>1232.400024</td>\n",
       "      <td>71730.0</td>\n",
       "      <td>728.547791</td>\n",
       "    </tr>\n",
       "    <tr>\n",
       "      <th>2004-01-05</th>\n",
       "      <td>1256.099976</td>\n",
       "      <td>1232.400024</td>\n",
       "      <td>1232.400024</td>\n",
       "      <td>1232.400024</td>\n",
       "      <td>313290.0</td>\n",
       "      <td>728.547791</td>\n",
       "    </tr>\n",
       "  </tbody>\n",
       "</table>\n",
       "</div>"
      ],
      "text/plain": [
       "                   High          Low  ...    Volume   Adj Close\n",
       "Date                                  ...                      \n",
       "2003-12-23  1327.199951  1232.400024  ...  426687.0  728.547791\n",
       "2003-12-29  1303.500000  1232.400024  ...  159810.0  770.579285\n",
       "2003-12-30  1303.500000  1232.400024  ...  365506.0  728.547791\n",
       "2004-01-02  1256.099976  1232.400024  ...   71730.0  728.547791\n",
       "2004-01-05  1256.099976  1232.400024  ...  313290.0  728.547791\n",
       "\n",
       "[5 rows x 6 columns]"
      ]
     },
     "metadata": {
      "tags": []
     },
     "output_type": "display_data"
    },
    {
     "data": {
      "text/html": [
       "<div>\n",
       "<style scoped>\n",
       "    .dataframe tbody tr th:only-of-type {\n",
       "        vertical-align: middle;\n",
       "    }\n",
       "\n",
       "    .dataframe tbody tr th {\n",
       "        vertical-align: top;\n",
       "    }\n",
       "\n",
       "    .dataframe thead th {\n",
       "        text-align: right;\n",
       "    }\n",
       "</style>\n",
       "<table border=\"1\" class=\"dataframe\">\n",
       "  <thead>\n",
       "    <tr style=\"text-align: right;\">\n",
       "      <th></th>\n",
       "      <th>High</th>\n",
       "      <th>Low</th>\n",
       "      <th>Open</th>\n",
       "      <th>Close</th>\n",
       "      <th>Volume</th>\n",
       "      <th>Adj Close</th>\n",
       "    </tr>\n",
       "    <tr>\n",
       "      <th>Date</th>\n",
       "      <th></th>\n",
       "      <th></th>\n",
       "      <th></th>\n",
       "      <th></th>\n",
       "      <th></th>\n",
       "      <th></th>\n",
       "    </tr>\n",
       "  </thead>\n",
       "  <tbody>\n",
       "    <tr>\n",
       "      <th>2020-10-19</th>\n",
       "      <td>4900.0</td>\n",
       "      <td>4820.0</td>\n",
       "      <td>4850.0</td>\n",
       "      <td>4890.0</td>\n",
       "      <td>36507600.0</td>\n",
       "      <td>4890.0</td>\n",
       "    </tr>\n",
       "    <tr>\n",
       "      <th>2020-10-20</th>\n",
       "      <td>4890.0</td>\n",
       "      <td>4810.0</td>\n",
       "      <td>4870.0</td>\n",
       "      <td>4810.0</td>\n",
       "      <td>28628400.0</td>\n",
       "      <td>4810.0</td>\n",
       "    </tr>\n",
       "    <tr>\n",
       "      <th>2020-10-21</th>\n",
       "      <td>4930.0</td>\n",
       "      <td>4850.0</td>\n",
       "      <td>4850.0</td>\n",
       "      <td>4880.0</td>\n",
       "      <td>44696300.0</td>\n",
       "      <td>4880.0</td>\n",
       "    </tr>\n",
       "    <tr>\n",
       "      <th>2020-10-22</th>\n",
       "      <td>4880.0</td>\n",
       "      <td>4830.0</td>\n",
       "      <td>4830.0</td>\n",
       "      <td>4860.0</td>\n",
       "      <td>22289100.0</td>\n",
       "      <td>4860.0</td>\n",
       "    </tr>\n",
       "    <tr>\n",
       "      <th>2020-10-23</th>\n",
       "      <td>4900.0</td>\n",
       "      <td>4840.0</td>\n",
       "      <td>4860.0</td>\n",
       "      <td>4850.0</td>\n",
       "      <td>23111100.0</td>\n",
       "      <td>4850.0</td>\n",
       "    </tr>\n",
       "  </tbody>\n",
       "</table>\n",
       "</div>"
      ],
      "text/plain": [
       "              High     Low    Open   Close      Volume  Adj Close\n",
       "Date                                                             \n",
       "2020-10-19  4900.0  4820.0  4850.0  4890.0  36507600.0     4890.0\n",
       "2020-10-20  4890.0  4810.0  4870.0  4810.0  28628400.0     4810.0\n",
       "2020-10-21  4930.0  4850.0  4850.0  4880.0  44696300.0     4880.0\n",
       "2020-10-22  4880.0  4830.0  4830.0  4860.0  22289100.0     4860.0\n",
       "2020-10-23  4900.0  4840.0  4860.0  4850.0  23111100.0     4850.0"
      ]
     },
     "metadata": {
      "tags": []
     },
     "output_type": "display_data"
    }
   ],
   "source": [
    "bbni = web.DataReader('BBNI.jk',\n",
    "                    data_source='yahoo',\n",
    "                    start='2003-12-23',\n",
    "                    end='2020-10-23')\n",
    "\n",
    "display(bbni.head())\n",
    "display(bbni.tail())"
   ]
  },
  {
   "cell_type": "code",
   "execution_count": 4,
   "metadata": {
    "colab": {
     "base_uri": "https://localhost:8080/",
     "height": 453
    },
    "id": "a6BdeawsWp4-",
    "outputId": "9834b276-7689-4c70-d8ff-f7aa34e548f9"
   },
   "outputs": [
    {
     "data": {
      "text/html": [
       "<div>\n",
       "<style scoped>\n",
       "    .dataframe tbody tr th:only-of-type {\n",
       "        vertical-align: middle;\n",
       "    }\n",
       "\n",
       "    .dataframe tbody tr th {\n",
       "        vertical-align: top;\n",
       "    }\n",
       "\n",
       "    .dataframe thead th {\n",
       "        text-align: right;\n",
       "    }\n",
       "</style>\n",
       "<table border=\"1\" class=\"dataframe\">\n",
       "  <thead>\n",
       "    <tr style=\"text-align: right;\">\n",
       "      <th></th>\n",
       "      <th>High</th>\n",
       "      <th>Low</th>\n",
       "      <th>Open</th>\n",
       "      <th>Close</th>\n",
       "      <th>Volume</th>\n",
       "      <th>Adj Close</th>\n",
       "    </tr>\n",
       "    <tr>\n",
       "      <th>Date</th>\n",
       "      <th></th>\n",
       "      <th></th>\n",
       "      <th></th>\n",
       "      <th></th>\n",
       "      <th></th>\n",
       "      <th></th>\n",
       "    </tr>\n",
       "  </thead>\n",
       "  <tbody>\n",
       "    <tr>\n",
       "      <th>2003-12-23</th>\n",
       "      <td>516.234009</td>\n",
       "      <td>491.652008</td>\n",
       "      <td>503.942993</td>\n",
       "      <td>503.942993</td>\n",
       "      <td>131619586.0</td>\n",
       "      <td>180.394806</td>\n",
       "    </tr>\n",
       "    <tr>\n",
       "      <th>2003-12-29</th>\n",
       "      <td>503.942993</td>\n",
       "      <td>491.652008</td>\n",
       "      <td>503.942993</td>\n",
       "      <td>503.942993</td>\n",
       "      <td>25004487.0</td>\n",
       "      <td>180.394806</td>\n",
       "    </tr>\n",
       "    <tr>\n",
       "      <th>2003-12-30</th>\n",
       "      <td>503.942993</td>\n",
       "      <td>479.359985</td>\n",
       "      <td>503.942993</td>\n",
       "      <td>491.652008</td>\n",
       "      <td>52019544.0</td>\n",
       "      <td>175.995071</td>\n",
       "    </tr>\n",
       "    <tr>\n",
       "      <th>2004-01-02</th>\n",
       "      <td>503.942993</td>\n",
       "      <td>479.359985</td>\n",
       "      <td>491.652008</td>\n",
       "      <td>491.652008</td>\n",
       "      <td>60528616.0</td>\n",
       "      <td>175.995071</td>\n",
       "    </tr>\n",
       "    <tr>\n",
       "      <th>2004-01-05</th>\n",
       "      <td>528.526001</td>\n",
       "      <td>491.652008</td>\n",
       "      <td>503.942993</td>\n",
       "      <td>516.234009</td>\n",
       "      <td>163827342.0</td>\n",
       "      <td>184.794632</td>\n",
       "    </tr>\n",
       "  </tbody>\n",
       "</table>\n",
       "</div>"
      ],
      "text/plain": [
       "                  High         Low  ...       Volume   Adj Close\n",
       "Date                                ...                         \n",
       "2003-12-23  516.234009  491.652008  ...  131619586.0  180.394806\n",
       "2003-12-29  503.942993  491.652008  ...   25004487.0  180.394806\n",
       "2003-12-30  503.942993  479.359985  ...   52019544.0  175.995071\n",
       "2004-01-02  503.942993  479.359985  ...   60528616.0  175.995071\n",
       "2004-01-05  528.526001  491.652008  ...  163827342.0  184.794632\n",
       "\n",
       "[5 rows x 6 columns]"
      ]
     },
     "metadata": {
      "tags": []
     },
     "output_type": "display_data"
    },
    {
     "data": {
      "text/html": [
       "<div>\n",
       "<style scoped>\n",
       "    .dataframe tbody tr th:only-of-type {\n",
       "        vertical-align: middle;\n",
       "    }\n",
       "\n",
       "    .dataframe tbody tr th {\n",
       "        vertical-align: top;\n",
       "    }\n",
       "\n",
       "    .dataframe thead th {\n",
       "        text-align: right;\n",
       "    }\n",
       "</style>\n",
       "<table border=\"1\" class=\"dataframe\">\n",
       "  <thead>\n",
       "    <tr style=\"text-align: right;\">\n",
       "      <th></th>\n",
       "      <th>High</th>\n",
       "      <th>Low</th>\n",
       "      <th>Open</th>\n",
       "      <th>Close</th>\n",
       "      <th>Volume</th>\n",
       "      <th>Adj Close</th>\n",
       "    </tr>\n",
       "    <tr>\n",
       "      <th>Date</th>\n",
       "      <th></th>\n",
       "      <th></th>\n",
       "      <th></th>\n",
       "      <th></th>\n",
       "      <th></th>\n",
       "      <th></th>\n",
       "    </tr>\n",
       "  </thead>\n",
       "  <tbody>\n",
       "    <tr>\n",
       "      <th>2020-10-19</th>\n",
       "      <td>5725.0</td>\n",
       "      <td>5575.0</td>\n",
       "      <td>5600.0</td>\n",
       "      <td>5700.0</td>\n",
       "      <td>29468100.0</td>\n",
       "      <td>5700.0</td>\n",
       "    </tr>\n",
       "    <tr>\n",
       "      <th>2020-10-20</th>\n",
       "      <td>5750.0</td>\n",
       "      <td>5600.0</td>\n",
       "      <td>5725.0</td>\n",
       "      <td>5650.0</td>\n",
       "      <td>38606600.0</td>\n",
       "      <td>5650.0</td>\n",
       "    </tr>\n",
       "    <tr>\n",
       "      <th>2020-10-21</th>\n",
       "      <td>5725.0</td>\n",
       "      <td>5475.0</td>\n",
       "      <td>5675.0</td>\n",
       "      <td>5525.0</td>\n",
       "      <td>56950900.0</td>\n",
       "      <td>5525.0</td>\n",
       "    </tr>\n",
       "    <tr>\n",
       "      <th>2020-10-22</th>\n",
       "      <td>5550.0</td>\n",
       "      <td>5400.0</td>\n",
       "      <td>5500.0</td>\n",
       "      <td>5450.0</td>\n",
       "      <td>69350700.0</td>\n",
       "      <td>5450.0</td>\n",
       "    </tr>\n",
       "    <tr>\n",
       "      <th>2020-10-23</th>\n",
       "      <td>5575.0</td>\n",
       "      <td>5475.0</td>\n",
       "      <td>5525.0</td>\n",
       "      <td>5550.0</td>\n",
       "      <td>32950100.0</td>\n",
       "      <td>5550.0</td>\n",
       "    </tr>\n",
       "  </tbody>\n",
       "</table>\n",
       "</div>"
      ],
      "text/plain": [
       "              High     Low    Open   Close      Volume  Adj Close\n",
       "Date                                                             \n",
       "2020-10-19  5725.0  5575.0  5600.0  5700.0  29468100.0     5700.0\n",
       "2020-10-20  5750.0  5600.0  5725.0  5650.0  38606600.0     5650.0\n",
       "2020-10-21  5725.0  5475.0  5675.0  5525.0  56950900.0     5525.0\n",
       "2020-10-22  5550.0  5400.0  5500.0  5450.0  69350700.0     5450.0\n",
       "2020-10-23  5575.0  5475.0  5525.0  5550.0  32950100.0     5550.0"
      ]
     },
     "metadata": {
      "tags": []
     },
     "output_type": "display_data"
    }
   ],
   "source": [
    "bmri = web.DataReader('BMRI.jk',\n",
    "                    data_source='yahoo',\n",
    "                    start='2003-12-23',\n",
    "                    end='2020-10-23')\n",
    "\n",
    "display(bmri.head())\n",
    "display(bmri.tail())"
   ]
  },
  {
   "cell_type": "code",
   "execution_count": 5,
   "metadata": {
    "colab": {
     "base_uri": "https://localhost:8080/",
     "height": 453
    },
    "id": "fw9YwOolW2kn",
    "outputId": "c443b091-36d4-4397-acbe-2b0b840da55f"
   },
   "outputs": [
    {
     "data": {
      "text/html": [
       "<div>\n",
       "<style scoped>\n",
       "    .dataframe tbody tr th:only-of-type {\n",
       "        vertical-align: middle;\n",
       "    }\n",
       "\n",
       "    .dataframe tbody tr th {\n",
       "        vertical-align: top;\n",
       "    }\n",
       "\n",
       "    .dataframe thead th {\n",
       "        text-align: right;\n",
       "    }\n",
       "</style>\n",
       "<table border=\"1\" class=\"dataframe\">\n",
       "  <thead>\n",
       "    <tr style=\"text-align: right;\">\n",
       "      <th></th>\n",
       "      <th>High</th>\n",
       "      <th>Low</th>\n",
       "      <th>Open</th>\n",
       "      <th>Close</th>\n",
       "      <th>Volume</th>\n",
       "      <th>Adj Close</th>\n",
       "    </tr>\n",
       "    <tr>\n",
       "      <th>Date</th>\n",
       "      <th></th>\n",
       "      <th></th>\n",
       "      <th></th>\n",
       "      <th></th>\n",
       "      <th></th>\n",
       "      <th></th>\n",
       "    </tr>\n",
       "  </thead>\n",
       "  <tbody>\n",
       "    <tr>\n",
       "      <th>2004-06-08</th>\n",
       "      <td>900.0</td>\n",
       "      <td>875.0</td>\n",
       "      <td>875.0</td>\n",
       "      <td>887.5</td>\n",
       "      <td>99830000.0</td>\n",
       "      <td>438.253326</td>\n",
       "    </tr>\n",
       "    <tr>\n",
       "      <th>2004-06-09</th>\n",
       "      <td>912.5</td>\n",
       "      <td>875.0</td>\n",
       "      <td>887.5</td>\n",
       "      <td>900.0</td>\n",
       "      <td>58858000.0</td>\n",
       "      <td>444.425873</td>\n",
       "    </tr>\n",
       "    <tr>\n",
       "      <th>2004-06-10</th>\n",
       "      <td>900.0</td>\n",
       "      <td>887.5</td>\n",
       "      <td>900.0</td>\n",
       "      <td>900.0</td>\n",
       "      <td>33118000.0</td>\n",
       "      <td>444.425873</td>\n",
       "    </tr>\n",
       "    <tr>\n",
       "      <th>2004-06-11</th>\n",
       "      <td>900.0</td>\n",
       "      <td>887.5</td>\n",
       "      <td>887.5</td>\n",
       "      <td>900.0</td>\n",
       "      <td>27166000.0</td>\n",
       "      <td>444.425873</td>\n",
       "    </tr>\n",
       "    <tr>\n",
       "      <th>2004-06-14</th>\n",
       "      <td>900.0</td>\n",
       "      <td>875.0</td>\n",
       "      <td>900.0</td>\n",
       "      <td>887.5</td>\n",
       "      <td>31708000.0</td>\n",
       "      <td>438.253326</td>\n",
       "    </tr>\n",
       "  </tbody>\n",
       "</table>\n",
       "</div>"
      ],
      "text/plain": [
       "             High    Low   Open  Close      Volume   Adj Close\n",
       "Date                                                          \n",
       "2004-06-08  900.0  875.0  875.0  887.5  99830000.0  438.253326\n",
       "2004-06-09  912.5  875.0  887.5  900.0  58858000.0  444.425873\n",
       "2004-06-10  900.0  887.5  900.0  900.0  33118000.0  444.425873\n",
       "2004-06-11  900.0  887.5  887.5  900.0  27166000.0  444.425873\n",
       "2004-06-14  900.0  875.0  900.0  887.5  31708000.0  438.253326"
      ]
     },
     "metadata": {
      "tags": []
     },
     "output_type": "display_data"
    },
    {
     "data": {
      "text/html": [
       "<div>\n",
       "<style scoped>\n",
       "    .dataframe tbody tr th:only-of-type {\n",
       "        vertical-align: middle;\n",
       "    }\n",
       "\n",
       "    .dataframe tbody tr th {\n",
       "        vertical-align: top;\n",
       "    }\n",
       "\n",
       "    .dataframe thead th {\n",
       "        text-align: right;\n",
       "    }\n",
       "</style>\n",
       "<table border=\"1\" class=\"dataframe\">\n",
       "  <thead>\n",
       "    <tr style=\"text-align: right;\">\n",
       "      <th></th>\n",
       "      <th>High</th>\n",
       "      <th>Low</th>\n",
       "      <th>Open</th>\n",
       "      <th>Close</th>\n",
       "      <th>Volume</th>\n",
       "      <th>Adj Close</th>\n",
       "    </tr>\n",
       "    <tr>\n",
       "      <th>Date</th>\n",
       "      <th></th>\n",
       "      <th></th>\n",
       "      <th></th>\n",
       "      <th></th>\n",
       "      <th></th>\n",
       "      <th></th>\n",
       "    </tr>\n",
       "  </thead>\n",
       "  <tbody>\n",
       "    <tr>\n",
       "      <th>2020-10-19</th>\n",
       "      <td>29500.0</td>\n",
       "      <td>28550.0</td>\n",
       "      <td>28750.0</td>\n",
       "      <td>29500.0</td>\n",
       "      <td>11374300.0</td>\n",
       "      <td>29500.0</td>\n",
       "    </tr>\n",
       "    <tr>\n",
       "      <th>2020-10-20</th>\n",
       "      <td>29400.0</td>\n",
       "      <td>28925.0</td>\n",
       "      <td>29400.0</td>\n",
       "      <td>29025.0</td>\n",
       "      <td>14999100.0</td>\n",
       "      <td>29025.0</td>\n",
       "    </tr>\n",
       "    <tr>\n",
       "      <th>2020-10-21</th>\n",
       "      <td>29325.0</td>\n",
       "      <td>28650.0</td>\n",
       "      <td>29300.0</td>\n",
       "      <td>28900.0</td>\n",
       "      <td>15588800.0</td>\n",
       "      <td>28900.0</td>\n",
       "    </tr>\n",
       "    <tr>\n",
       "      <th>2020-10-22</th>\n",
       "      <td>29000.0</td>\n",
       "      <td>28525.0</td>\n",
       "      <td>28700.0</td>\n",
       "      <td>29000.0</td>\n",
       "      <td>19374500.0</td>\n",
       "      <td>29000.0</td>\n",
       "    </tr>\n",
       "    <tr>\n",
       "      <th>2020-10-23</th>\n",
       "      <td>29200.0</td>\n",
       "      <td>28750.0</td>\n",
       "      <td>29200.0</td>\n",
       "      <td>28850.0</td>\n",
       "      <td>13265600.0</td>\n",
       "      <td>28850.0</td>\n",
       "    </tr>\n",
       "  </tbody>\n",
       "</table>\n",
       "</div>"
      ],
      "text/plain": [
       "               High      Low     Open    Close      Volume  Adj Close\n",
       "Date                                                                 \n",
       "2020-10-19  29500.0  28550.0  28750.0  29500.0  11374300.0    29500.0\n",
       "2020-10-20  29400.0  28925.0  29400.0  29025.0  14999100.0    29025.0\n",
       "2020-10-21  29325.0  28650.0  29300.0  28900.0  15588800.0    28900.0\n",
       "2020-10-22  29000.0  28525.0  28700.0  29000.0  19374500.0    29000.0\n",
       "2020-10-23  29200.0  28750.0  29200.0  28850.0  13265600.0    28850.0"
      ]
     },
     "metadata": {
      "tags": []
     },
     "output_type": "display_data"
    }
   ],
   "source": [
    "bbca = web.DataReader('BBCA.jk',\n",
    "                    data_source='yahoo',\n",
    "                    start='2003-12-23',\n",
    "                    end='2020-10-23')\n",
    "\n",
    "display(bbca.head())\n",
    "display(bbca.tail())"
   ]
  },
  {
   "cell_type": "code",
   "execution_count": 6,
   "metadata": {
    "colab": {
     "base_uri": "https://localhost:8080/",
     "height": 453
    },
    "id": "8R7YXSLXXBnu",
    "outputId": "3b10d0ff-0577-47c0-8db6-c845e4b54eee"
   },
   "outputs": [
    {
     "data": {
      "text/html": [
       "<div>\n",
       "<style scoped>\n",
       "    .dataframe tbody tr th:only-of-type {\n",
       "        vertical-align: middle;\n",
       "    }\n",
       "\n",
       "    .dataframe tbody tr th {\n",
       "        vertical-align: top;\n",
       "    }\n",
       "\n",
       "    .dataframe thead th {\n",
       "        text-align: right;\n",
       "    }\n",
       "</style>\n",
       "<table border=\"1\" class=\"dataframe\">\n",
       "  <thead>\n",
       "    <tr style=\"text-align: right;\">\n",
       "      <th></th>\n",
       "      <th>High</th>\n",
       "      <th>Low</th>\n",
       "      <th>Open</th>\n",
       "      <th>Close</th>\n",
       "      <th>Volume</th>\n",
       "      <th>Adj Close</th>\n",
       "    </tr>\n",
       "    <tr>\n",
       "      <th>Date</th>\n",
       "      <th></th>\n",
       "      <th></th>\n",
       "      <th></th>\n",
       "      <th></th>\n",
       "      <th></th>\n",
       "      <th></th>\n",
       "    </tr>\n",
       "  </thead>\n",
       "  <tbody>\n",
       "    <tr>\n",
       "      <th>2003-12-23</th>\n",
       "      <td>409.184998</td>\n",
       "      <td>395.984985</td>\n",
       "      <td>395.984985</td>\n",
       "      <td>395.984985</td>\n",
       "      <td>14894299.0</td>\n",
       "      <td>298.425690</td>\n",
       "    </tr>\n",
       "    <tr>\n",
       "      <th>2003-12-29</th>\n",
       "      <td>409.184998</td>\n",
       "      <td>395.984985</td>\n",
       "      <td>395.984985</td>\n",
       "      <td>400.385010</td>\n",
       "      <td>2392702.0</td>\n",
       "      <td>301.741669</td>\n",
       "    </tr>\n",
       "    <tr>\n",
       "      <th>2003-12-30</th>\n",
       "      <td>409.184998</td>\n",
       "      <td>395.984985</td>\n",
       "      <td>395.984985</td>\n",
       "      <td>395.984985</td>\n",
       "      <td>9180452.0</td>\n",
       "      <td>298.425690</td>\n",
       "    </tr>\n",
       "    <tr>\n",
       "      <th>2004-01-02</th>\n",
       "      <td>404.785004</td>\n",
       "      <td>387.186005</td>\n",
       "      <td>395.984985</td>\n",
       "      <td>387.186005</td>\n",
       "      <td>8231553.0</td>\n",
       "      <td>291.794495</td>\n",
       "    </tr>\n",
       "    <tr>\n",
       "      <th>2004-01-05</th>\n",
       "      <td>404.785004</td>\n",
       "      <td>387.186005</td>\n",
       "      <td>387.186005</td>\n",
       "      <td>387.186005</td>\n",
       "      <td>7814492.0</td>\n",
       "      <td>291.794495</td>\n",
       "    </tr>\n",
       "  </tbody>\n",
       "</table>\n",
       "</div>"
      ],
      "text/plain": [
       "                  High         Low  ...      Volume   Adj Close\n",
       "Date                                ...                        \n",
       "2003-12-23  409.184998  395.984985  ...  14894299.0  298.425690\n",
       "2003-12-29  409.184998  395.984985  ...   2392702.0  301.741669\n",
       "2003-12-30  409.184998  395.984985  ...   9180452.0  298.425690\n",
       "2004-01-02  404.785004  387.186005  ...   8231553.0  291.794495\n",
       "2004-01-05  404.785004  387.186005  ...   7814492.0  291.794495\n",
       "\n",
       "[5 rows x 6 columns]"
      ]
     },
     "metadata": {
      "tags": []
     },
     "output_type": "display_data"
    },
    {
     "data": {
      "text/html": [
       "<div>\n",
       "<style scoped>\n",
       "    .dataframe tbody tr th:only-of-type {\n",
       "        vertical-align: middle;\n",
       "    }\n",
       "\n",
       "    .dataframe tbody tr th {\n",
       "        vertical-align: top;\n",
       "    }\n",
       "\n",
       "    .dataframe thead th {\n",
       "        text-align: right;\n",
       "    }\n",
       "</style>\n",
       "<table border=\"1\" class=\"dataframe\">\n",
       "  <thead>\n",
       "    <tr style=\"text-align: right;\">\n",
       "      <th></th>\n",
       "      <th>High</th>\n",
       "      <th>Low</th>\n",
       "      <th>Open</th>\n",
       "      <th>Close</th>\n",
       "      <th>Volume</th>\n",
       "      <th>Adj Close</th>\n",
       "    </tr>\n",
       "    <tr>\n",
       "      <th>Date</th>\n",
       "      <th></th>\n",
       "      <th></th>\n",
       "      <th></th>\n",
       "      <th></th>\n",
       "      <th></th>\n",
       "      <th></th>\n",
       "    </tr>\n",
       "  </thead>\n",
       "  <tbody>\n",
       "    <tr>\n",
       "      <th>2020-10-19</th>\n",
       "      <td>775.0</td>\n",
       "      <td>755.0</td>\n",
       "      <td>765.0</td>\n",
       "      <td>765.0</td>\n",
       "      <td>1353700.0</td>\n",
       "      <td>765.0</td>\n",
       "    </tr>\n",
       "    <tr>\n",
       "      <th>2020-10-20</th>\n",
       "      <td>775.0</td>\n",
       "      <td>755.0</td>\n",
       "      <td>770.0</td>\n",
       "      <td>760.0</td>\n",
       "      <td>1827700.0</td>\n",
       "      <td>760.0</td>\n",
       "    </tr>\n",
       "    <tr>\n",
       "      <th>2020-10-21</th>\n",
       "      <td>770.0</td>\n",
       "      <td>755.0</td>\n",
       "      <td>755.0</td>\n",
       "      <td>755.0</td>\n",
       "      <td>1728400.0</td>\n",
       "      <td>755.0</td>\n",
       "    </tr>\n",
       "    <tr>\n",
       "      <th>2020-10-22</th>\n",
       "      <td>765.0</td>\n",
       "      <td>745.0</td>\n",
       "      <td>755.0</td>\n",
       "      <td>750.0</td>\n",
       "      <td>2198700.0</td>\n",
       "      <td>750.0</td>\n",
       "    </tr>\n",
       "    <tr>\n",
       "      <th>2020-10-23</th>\n",
       "      <td>760.0</td>\n",
       "      <td>750.0</td>\n",
       "      <td>750.0</td>\n",
       "      <td>755.0</td>\n",
       "      <td>1147200.0</td>\n",
       "      <td>755.0</td>\n",
       "    </tr>\n",
       "  </tbody>\n",
       "</table>\n",
       "</div>"
      ],
      "text/plain": [
       "             High    Low   Open  Close     Volume  Adj Close\n",
       "Date                                                        \n",
       "2020-10-19  775.0  755.0  765.0  765.0  1353700.0      765.0\n",
       "2020-10-20  775.0  755.0  770.0  760.0  1827700.0      760.0\n",
       "2020-10-21  770.0  755.0  755.0  755.0  1728400.0      755.0\n",
       "2020-10-22  765.0  745.0  755.0  750.0  2198700.0      750.0\n",
       "2020-10-23  760.0  750.0  750.0  755.0  1147200.0      755.0"
      ]
     },
     "metadata": {
      "tags": []
     },
     "output_type": "display_data"
    }
   ],
   "source": [
    "bnga = web.DataReader('BNGA.jk',\n",
    "                    data_source='yahoo',\n",
    "                    start='2003-12-23',\n",
    "                    end='2020-10-23')\n",
    "\n",
    "display(bnga.head())\n",
    "display(bnga.tail())"
   ]
  },
  {
   "cell_type": "code",
   "execution_count": 7,
   "metadata": {
    "colab": {
     "base_uri": "https://localhost:8080/",
     "height": 102
    },
    "id": "ZQuXSB61XRS5",
    "outputId": "7a93d0d2-1eab-4e97-acf4-5fca642836fd"
   },
   "outputs": [
    {
     "name": "stdout",
     "output_type": "stream",
     "text": [
      "(4186, 6)\n",
      "(4158, 6)\n",
      "(4178, 6)\n",
      "(4067, 6)\n",
      "(4135, 6)\n"
     ]
    }
   ],
   "source": [
    "print(bbri.shape)\n",
    "print(bbni.shape)\n",
    "print(bmri.shape)\n",
    "print(bbca.shape)\n",
    "print(bnga.shape)"
   ]
  },
  {
   "cell_type": "markdown",
   "metadata": {
    "id": "tjkZ6D8SZbFI"
   },
   "source": [
    "# **Data Visualization**"
   ]
  },
  {
   "cell_type": "code",
   "execution_count": 8,
   "metadata": {
    "colab": {
     "base_uri": "https://localhost:8080/",
     "height": 1000
    },
    "id": "mNdiCAdXZUbk",
    "outputId": "19a39336-554b-4c15-fc08-b3528cb12118"
   },
   "outputs": [
    {
     "data": {
      "image/png": "[encoded data removed]",
      "text/plain": [
       "<Figure size 1152x576 with 1 Axes>"
      ]
     },
     "metadata": {
      "needs_background": "light",
      "tags": []
     },
     "output_type": "display_data"
    },
    {
     "data": {
      "image/png": "[encoded data removed]",
      "text/plain": [
       "<Figure size 1152x576 with 1 Axes>"
      ]
     },
     "metadata": {
      "needs_background": "light",
      "tags": []
     },
     "output_type": "display_data"
    },
    {
     "data": {
      "image/png": "[encoded data removed]",
      "text/plain": [
       "<Figure size 1152x576 with 1 Axes>"
      ]
     },
     "metadata": {
      "needs_background": "light",
      "tags": []
     },
     "output_type": "display_data"
    },
    {
     "data": {
      "image/png": "[encoded data removed]",
      "text/plain": [
       "<Figure size 1152x576 with 1 Axes>"
      ]
     },
     "metadata": {
      "needs_background": "light",
      "tags": []
     },
     "output_type": "display_data"
    },
    {
     "data": {
      "image/png": "[encoded data removed]",
      "text/plain": [
       "<Figure size 1152x576 with 1 Axes>"
      ]
     },
     "metadata": {
      "needs_background": "light",
      "tags": []
     },
     "output_type": "display_data"
    }
   ],
   "source": [
    "plt.figure(figsize=(16,8))\n",
    "plt.title('BBRI Historical Closing Price')\n",
    "plt.plot(bbri['Close'])\n",
    "plt.xlabel('Time', fontsize=18)\n",
    "plt.ylabel('Closing Price (IDR)', fontsize=18)\n",
    "plt.show()\n",
    "\n",
    "plt.figure(figsize=(16,8))\n",
    "plt.title('BBNI Historical Closing Price')\n",
    "plt.plot(bbni['Close'])\n",
    "plt.xlabel('Time', fontsize=18)\n",
    "plt.ylabel('Closing Price (IDR)', fontsize=18)\n",
    "plt.show()\n",
    "\n",
    "plt.figure(figsize=(16,8))\n",
    "plt.title('BMRI Historical Closing Price')\n",
    "plt.plot(bmri['Close'])\n",
    "plt.xlabel('Time', fontsize=18)\n",
    "plt.ylabel('Closing Price (IDR)', fontsize=18)\n",
    "plt.show()\n",
    "\n",
    "plt.figure(figsize=(16,8))\n",
    "plt.title('BBCA Historical Closing Price')\n",
    "plt.plot(bbca['Close'])\n",
    "plt.xlabel('Time', fontsize=18)\n",
    "plt.ylabel('Closing Price (IDR)', fontsize=18)\n",
    "plt.show()\n",
    "\n",
    "plt.figure(figsize=(16,8))\n",
    "plt.title('BNGA Historical Closing Price')\n",
    "plt.plot(bnga['Close'])\n",
    "plt.xlabel('Time', fontsize=18)\n",
    "plt.ylabel('Closing Price (IDR)', fontsize=18)\n",
    "plt.show()"
   ]
  },
  {
   "cell_type": "markdown",
   "metadata": {
    "id": "X0z94idcaOXU"
   },
   "source": [
    "# **Data Preparation**"
   ]
  },
  {
   "cell_type": "markdown",
   "metadata": {
    "id": "-teoyKokaiQG"
   },
   "source": [
    "## **BBRI**"
   ]
  },
  {
   "cell_type": "code",
   "execution_count": 9,
   "metadata": {
    "colab": {
     "base_uri": "https://localhost:8080/",
     "height": 34
    },
    "id": "_2cq_uwBbQgY",
    "outputId": "b0df0a1f-c788-43ee-ff2b-e4f8887f9ed1"
   },
   "outputs": [
    {
     "data": {
      "text/plain": [
       "(4186, 6)"
      ]
     },
     "execution_count": 9,
     "metadata": {
      "tags": []
     },
     "output_type": "execute_result"
    }
   ],
   "source": [
    "bbri.shape"
   ]
  },
  {
   "cell_type": "code",
   "execution_count": 10,
   "metadata": {
    "colab": {
     "base_uri": "https://localhost:8080/",
     "height": 34
    },
    "id": "eYpCHd2WZvE1",
    "outputId": "6624a9d5-2674-41b2-edaa-f3e11209f92b"
   },
   "outputs": [
    {
     "name": "stdout",
     "output_type": "stream",
     "text": [
      "3349\n"
     ]
    }
   ],
   "source": [
    "bbri_close = bbri.filter(['Close'])\n",
    "train_bbri_close_len = math.ceil(len(bbri_close.values) * .8)\n",
    "print(train_bbri_close_len)"
   ]
  },
  {
   "cell_type": "code",
   "execution_count": 11,
   "metadata": {
    "colab": {
     "base_uri": "https://localhost:8080/",
     "height": 136
    },
    "id": "g8Ql9Bcgj-Qt",
    "outputId": "ca74ddea-607c-46c5-c678-6ad228f56a7a"
   },
   "outputs": [
    {
     "data": {
      "text/plain": [
       "array([[0.        ],\n",
       "       [0.        ],\n",
       "       [0.        ],\n",
       "       ...,\n",
       "       [0.67497291],\n",
       "       [0.687974  ],\n",
       "       [0.68580715]])"
      ]
     },
     "execution_count": 11,
     "metadata": {
      "tags": []
     },
     "output_type": "execute_result"
    }
   ],
   "source": [
    "scaler = MinMaxScaler(feature_range=(0,1))\n",
    "bbri_close_scaled = scaler.fit_transform(bbri_close.values)\n",
    "bbri_close_scaled"
   ]
  },
  {
   "cell_type": "code",
   "execution_count": 12,
   "metadata": {
    "colab": {
     "base_uri": "https://localhost:8080/",
     "height": 272
    },
    "id": "_eN2hZXXkGan",
    "outputId": "3ca986e1-d5c3-46b2-b16e-da1ef31a72f7"
   },
   "outputs": [
    {
     "name": "stdout",
     "output_type": "stream",
     "text": [
      "[array([0.        , 0.        , 0.        , 0.00054171, 0.00054171,\n",
      "       0.00054171, 0.00108342, 0.00325027, 0.00595883, 0.00541712,\n",
      "       0.00487541, 0.00650054, 0.00758397, 0.00866739, 0.00704225,\n",
      "       0.00704225, 0.00650054, 0.00704225, 0.00650054, 0.00595883,\n",
      "       0.00541712, 0.00325027, 0.00379198, 0.00270856, 0.00433369,\n",
      "       0.00487541, 0.00704225, 0.00866739, 0.00758397, 0.00758397,\n",
      "       0.00595883, 0.00812568, 0.00704225, 0.00704225, 0.00758397,\n",
      "       0.00758397, 0.00866739, 0.00758397, 0.00704225, 0.00595883,\n",
      "       0.00650054, 0.00758397, 0.00758397, 0.00866739, 0.00866739,\n",
      "       0.00704225, 0.00704225, 0.00812568, 0.00704225, 0.00650054,\n",
      "       0.00541712, 0.00487541, 0.00379198, 0.00487541, 0.00541712,\n",
      "       0.00595883, 0.00595883, 0.00595883, 0.00595883, 0.00487541])]\n",
      "\n",
      "[0.0037919826652221024]\n",
      "\n"
     ]
    }
   ],
   "source": [
    "train_bbri = bbri_close_scaled[0:train_bbri_close_len, :]\n",
    "\n",
    "x_train_bbri = []\n",
    "y_train_bbri = []\n",
    "\n",
    "for i in range(60, len(train_bbri)):\n",
    "  x_train_bbri.append(train_bbri[i-60:i, 0])\n",
    "  y_train_bbri.append(train_bbri[i, 0])\n",
    "  #check for a bunch of x_train_bbri and y _train_bbri\n",
    "  if i <=60:\n",
    "    print(x_train_bbri)\n",
    "    print()\n",
    "    print(y_train_bbri)\n",
    "    print()"
   ]
  },
  {
   "cell_type": "code",
   "execution_count": 13,
   "metadata": {
    "id": "6Fo83TP3laem"
   },
   "outputs": [],
   "source": [
    "#changing data to numpy array\n",
    "x_train_bbri, y_train_bbri = np.array(x_train_bbri), np.array(y_train_bbri)"
   ]
  },
  {
   "cell_type": "code",
   "execution_count": 14,
   "metadata": {
    "id": "JWct6G1zm022"
   },
   "outputs": [],
   "source": [
    "#changing data dimension to 3 dimension because LSTM needs it\n",
    "# [number of samples, number of time steps, and number of features]\n",
    "x_train_bbri = np.reshape(x_train_bbri, (\n",
    "                                         x_train_bbri.shape[0],\n",
    "                                         x_train_bbri.shape[1],\n",
    "                                          1\n",
    "                                        ))"
   ]
  },
  {
   "cell_type": "markdown",
   "metadata": {
    "id": "as67wLBPnS-_"
   },
   "source": [
    "## **BBNI**\n",
    "\n"
   ]
  },
  {
   "cell_type": "code",
   "execution_count": 15,
   "metadata": {
    "colab": {
     "base_uri": "https://localhost:8080/",
     "height": 34
    },
    "id": "NBLcEf2UnKi1",
    "outputId": "40fcc1e5-5e5f-4fdd-d0d9-16ba47291885"
   },
   "outputs": [
    {
     "name": "stdout",
     "output_type": "stream",
     "text": [
      "(4158, 6)\n"
     ]
    }
   ],
   "source": [
    "print(bbni.shape)"
   ]
  },
  {
   "cell_type": "code",
   "execution_count": 16,
   "metadata": {
    "colab": {
     "base_uri": "https://localhost:8080/",
     "height": 34
    },
    "id": "Dd1Apg8-nYx6",
    "outputId": "0b900062-2bac-4630-ce12-aba16b215b3e"
   },
   "outputs": [
    {
     "name": "stdout",
     "output_type": "stream",
     "text": [
      "3327\n"
     ]
    }
   ],
   "source": [
    "bbni_close = bbni.filter(['Close'])\n",
    "train_bbni_close_len = math.ceil(len(bbni_close.values) * .8)\n",
    "print(train_bbni_close_len)"
   ]
  },
  {
   "cell_type": "code",
   "execution_count": 17,
   "metadata": {
    "colab": {
     "base_uri": "https://localhost:8080/",
     "height": 136
    },
    "id": "z8u489yln6ys",
    "outputId": "b566f10d-8c16-469f-f56b-7c816bc598ec"
   },
   "outputs": [
    {
     "data": {
      "text/plain": [
       "array([[0.08577133],\n",
       "       [0.09304009],\n",
       "       [0.08577133],\n",
       "       ...,\n",
       "       [0.45867636],\n",
       "       [0.4566317 ],\n",
       "       [0.45560937]])"
      ]
     },
     "execution_count": 17,
     "metadata": {
      "tags": []
     },
     "output_type": "execute_result"
    }
   ],
   "source": [
    "scaler = MinMaxScaler(feature_range=(0,1))\n",
    "bbni_close_scaled = scaler.fit_transform(bbni_close.values)\n",
    "bbni_close_scaled"
   ]
  },
  {
   "cell_type": "code",
   "execution_count": 18,
   "metadata": {
    "colab": {
     "base_uri": "https://localhost:8080/",
     "height": 272
    },
    "id": "CcS5D1rQoP0O",
    "outputId": "3c083588-cf60-4a42-aa49-99807aae0222"
   },
   "outputs": [
    {
     "name": "stdout",
     "output_type": "stream",
     "text": [
      "[array([0.08577133, 0.09304009, 0.08577133, 0.08577133, 0.08577133,\n",
      "       0.0833484 , 0.08092548, 0.08092548, 0.08577133, 0.0833484 ,\n",
      "       0.08092548, 0.08577133, 0.08577133, 0.08819425, 0.0833484 ,\n",
      "       0.0833484 , 0.0833484 , 0.08577133, 0.0833484 , 0.08577133,\n",
      "       0.0833484 , 0.0833484 , 0.0833484 , 0.08092548, 0.07850257,\n",
      "       0.08092548, 0.08092548, 0.0833484 , 0.08092548, 0.0833484 ,\n",
      "       0.0833484 , 0.0833484 , 0.08092548, 0.0833484 , 0.0833484 ,\n",
      "       0.08577133, 0.08819425, 0.08577133, 0.0833484 , 0.0833484 ,\n",
      "       0.08092548, 0.07607964, 0.07850257, 0.07850257, 0.07850257,\n",
      "       0.08092548, 0.07850257, 0.07850257, 0.07607964, 0.07365672,\n",
      "       0.07123379, 0.07123379, 0.07123379, 0.07123379, 0.07365672,\n",
      "       0.07123379, 0.07123379, 0.07123379, 0.07123379, 0.07123379])]\n",
      "\n",
      "[0.07123379164740243]\n",
      "\n"
     ]
    }
   ],
   "source": [
    "train_bbni = bbni_close_scaled[0:train_bbni_close_len, :]\n",
    "\n",
    "x_train_bbni = []\n",
    "y_train_bbni = []\n",
    "\n",
    "for i in range(60, len(train_bbni)):\n",
    "  x_train_bbni.append(train_bbni[i-60:i, 0])\n",
    "  y_train_bbni.append(train_bbni[i, 0])\n",
    "  #check for a bunch of x_train_bbni and y _train_bbni\n",
    "  if i <=60:\n",
    "    print(x_train_bbni)\n",
    "    print()\n",
    "    print(y_train_bbni)\n",
    "    print()"
   ]
  },
  {
   "cell_type": "code",
   "execution_count": 19,
   "metadata": {
    "id": "nVmS0YI7oelE"
   },
   "outputs": [],
   "source": [
    "#changing data to numpy array\n",
    "x_train_bbni, y_train_bbni = np.array(x_train_bbni), np.array(y_train_bbni)"
   ]
  },
  {
   "cell_type": "code",
   "execution_count": 20,
   "metadata": {
    "id": "wgGTbROyoohU"
   },
   "outputs": [],
   "source": [
    "#changing data dimension to 3 dimension because LSTM needs it\n",
    "# [number of samples, number of time steps, and number of features]\n",
    "x_train_bbni = np.reshape(x_train_bbni, (\n",
    "                                         x_train_bbni.shape[0],\n",
    "                                         x_train_bbni.shape[1],\n",
    "                                          1\n",
    "                                        ))"
   ]
  },
  {
   "cell_type": "markdown",
   "metadata": {
    "id": "gKtRdebpo1xX"
   },
   "source": [
    "## **BMRI**"
   ]
  },
  {
   "cell_type": "code",
   "execution_count": 21,
   "metadata": {
    "colab": {
     "base_uri": "https://localhost:8080/",
     "height": 34
    },
    "id": "miuIRc_Mow65",
    "outputId": "38690c84-9ae1-401c-feda-21327e99f466"
   },
   "outputs": [
    {
     "data": {
      "text/plain": [
       "(4178, 6)"
      ]
     },
     "execution_count": 21,
     "metadata": {
      "tags": []
     },
     "output_type": "execute_result"
    }
   ],
   "source": [
    "bmri.shape"
   ]
  },
  {
   "cell_type": "code",
   "execution_count": 22,
   "metadata": {
    "colab": {
     "base_uri": "https://localhost:8080/",
     "height": 34
    },
    "id": "MalOIwTpo4Rx",
    "outputId": "0c8ccd52-a153-4aed-cbcb-6d424521cb39"
   },
   "outputs": [
    {
     "name": "stdout",
     "output_type": "stream",
     "text": [
      "3343\n"
     ]
    }
   ],
   "source": [
    "bmri_close = bmri.filter(['Close'])\n",
    "train_bmri_close_len = math.ceil(len(bmri_close.values) * .8)\n",
    "print(train_bmri_close_len)"
   ]
  },
  {
   "cell_type": "code",
   "execution_count": 23,
   "metadata": {
    "colab": {
     "base_uri": "https://localhost:8080/",
     "height": 136
    },
    "id": "SbeYlkBypAxd",
    "outputId": "c16c20ea-2cdc-4d6f-8f1d-6c5430ae5197"
   },
   "outputs": [
    {
     "data": {
      "text/plain": [
       "array([[0.00143614],\n",
       "       [0.00143614],\n",
       "       [0.        ],\n",
       "       ...,\n",
       "       [0.58812145],\n",
       "       [0.57935807],\n",
       "       [0.59104257]])"
      ]
     },
     "execution_count": 23,
     "metadata": {
      "tags": []
     },
     "output_type": "execute_result"
    }
   ],
   "source": [
    "scaler = MinMaxScaler(feature_range=(0,1))\n",
    "bmri_close_scaled = scaler.fit_transform(bmri_close.values)\n",
    "bmri_close_scaled"
   ]
  },
  {
   "cell_type": "code",
   "execution_count": 24,
   "metadata": {
    "colab": {
     "base_uri": "https://localhost:8080/",
     "height": 272
    },
    "id": "Jr0EU5vEpYG4",
    "outputId": "9ca47c78-c35a-46da-bc71-c9945a91dd2d"
   },
   "outputs": [
    {
     "name": "stdout",
     "output_type": "stream",
     "text": [
      "[array([0.00143614, 0.00143614, 0.        , 0.        , 0.00287228,\n",
      "       0.00143614, 0.00143614, 0.00718082, 0.01436177, 0.01292551,\n",
      "       0.01148937, 0.01436177, 0.02010645, 0.02010645, 0.01867031,\n",
      "       0.02010645, 0.01867031, 0.02441499, 0.02872354, 0.01867031,\n",
      "       0.01867031, 0.01867031, 0.01723405, 0.01723405, 0.01867031,\n",
      "       0.01723405, 0.02441499, 0.02297873, 0.02297873, 0.02297873,\n",
      "       0.02297873, 0.02297873, 0.02297873, 0.02441499, 0.02585114,\n",
      "       0.03159582, 0.03159582, 0.02872354, 0.02872354, 0.02872354,\n",
      "       0.02297873, 0.02297873, 0.02872354, 0.03015967, 0.03015967,\n",
      "       0.02872354, 0.02728727, 0.02728727, 0.02872354, 0.02297873,\n",
      "       0.02154259, 0.02154259, 0.02297873, 0.02297873, 0.02297873,\n",
      "       0.02154259, 0.02154259, 0.02010645, 0.01867031, 0.01723405])]\n",
      "\n",
      "[0.020106447245905386]\n",
      "\n"
     ]
    }
   ],
   "source": [
    "train_bmri = bmri_close_scaled[0:train_bmri_close_len, :]\n",
    "\n",
    "x_train_bmri = []\n",
    "y_train_bmri = []\n",
    "\n",
    "for i in range(60, len(train_bmri)):\n",
    "  x_train_bmri.append(train_bmri[i-60:i, 0])\n",
    "  y_train_bmri.append(train_bmri[i, 0])\n",
    "  #check for a bunch of x_train_bmri and y _train_bmri\n",
    "  if i <=60:\n",
    "    print(x_train_bmri)\n",
    "    print()\n",
    "    print(y_train_bmri)\n",
    "    print()"
   ]
  },
  {
   "cell_type": "code",
   "execution_count": 25,
   "metadata": {
    "id": "sMSMZ-XRpk1m"
   },
   "outputs": [],
   "source": [
    "#changing data to numpy array\n",
    "x_train_bmri, y_train_bmri = np.array(x_train_bmri), np.array(y_train_bmri)"
   ]
  },
  {
   "cell_type": "code",
   "execution_count": 26,
   "metadata": {
    "id": "kRy317bNptdh"
   },
   "outputs": [],
   "source": [
    "#changing data dimension to 3 dimension because LSTM needs it\n",
    "# [number of samples, number of time steps, and number of features]\n",
    "x_train_bmri = np.reshape(x_train_bmri, (\n",
    "                                         x_train_bmri.shape[0],\n",
    "                                         x_train_bmri.shape[1],\n",
    "                                          1\n",
    "                                        ))"
   ]
  },
  {
   "cell_type": "markdown",
   "metadata": {
    "id": "QMfYRy2Lp_WN"
   },
   "source": [
    "## **BBCA**"
   ]
  },
  {
   "cell_type": "code",
   "execution_count": 27,
   "metadata": {
    "colab": {
     "base_uri": "https://localhost:8080/",
     "height": 34
    },
    "id": "XB8v6RUIqEXw",
    "outputId": "9681acf2-bac6-43f3-a951-5aa6c7bdbfb7"
   },
   "outputs": [
    {
     "data": {
      "text/plain": [
       "(4067, 6)"
      ]
     },
     "execution_count": 27,
     "metadata": {
      "tags": []
     },
     "output_type": "execute_result"
    }
   ],
   "source": [
    "bbca.shape"
   ]
  },
  {
   "cell_type": "code",
   "execution_count": 28,
   "metadata": {
    "colab": {
     "base_uri": "https://localhost:8080/",
     "height": 34
    },
    "id": "dBak7OP1qKyo",
    "outputId": "881d967c-2d16-4b1d-e2a0-1ce609d9175f"
   },
   "outputs": [
    {
     "name": "stdout",
     "output_type": "stream",
     "text": [
      "3254\n"
     ]
    }
   ],
   "source": [
    "bbca_close = bbca.filter(['Close'])\n",
    "train_bbca_close_len = math.ceil(len(bbca_close.values) * .8)\n",
    "print(train_bbca_close_len)"
   ]
  },
  {
   "cell_type": "code",
   "execution_count": 29,
   "metadata": {
    "colab": {
     "base_uri": "https://localhost:8080/",
     "height": 136
    },
    "id": "JgzgTHbQqK7N",
    "outputId": "a7b13a19-152b-4c57-837f-3e7ce18c2cc8"
   },
   "outputs": [
    {
     "data": {
      "text/plain": [
       "array([[0.00000000e+00],\n",
       "       [3.73273610e-04],\n",
       "       [3.73273610e-04],\n",
       "       ...,\n",
       "       [8.36506159e-01],\n",
       "       [8.39492348e-01],\n",
       "       [8.35013065e-01]])"
      ]
     },
     "execution_count": 29,
     "metadata": {
      "tags": []
     },
     "output_type": "execute_result"
    }
   ],
   "source": [
    "scaler = MinMaxScaler(feature_range=(0,1))\n",
    "bbca_close_scaled = scaler.fit_transform(bbca_close.values)\n",
    "bbca_close_scaled"
   ]
  },
  {
   "cell_type": "code",
   "execution_count": 30,
   "metadata": {
    "colab": {
     "base_uri": "https://localhost:8080/",
     "height": 272
    },
    "id": "gMgiuEfkqYbC",
    "outputId": "1809d055-8c0d-4435-c7c7-84c6512104c1"
   },
   "outputs": [
    {
     "name": "stdout",
     "output_type": "stream",
     "text": [
      "[array([0.        , 0.00037327, 0.00037327, 0.00037327, 0.        ,\n",
      "       0.00074655, 0.00037327, 0.        , 0.        , 0.        ,\n",
      "       0.        , 0.00037327, 0.00037327, 0.00074655, 0.00074655,\n",
      "       0.00111982, 0.00149309, 0.        , 0.00037327, 0.00037327,\n",
      "       0.00149309, 0.00149309, 0.00149309, 0.00186637, 0.00186637,\n",
      "       0.00223964, 0.00149309, 0.00149309, 0.00186637, 0.00186637,\n",
      "       0.00186637, 0.00186637, 0.00186637, 0.00186637, 0.00149309,\n",
      "       0.00149309, 0.00149309, 0.00149309, 0.00149309, 0.00111982,\n",
      "       0.00149309, 0.00186637, 0.00186637, 0.00149309, 0.00074655,\n",
      "       0.00074655, 0.00111982, 0.00074655, 0.00074655, 0.00037327,\n",
      "       0.00037327, 0.00111982, 0.00111982, 0.00074655, 0.00074655,\n",
      "       0.00074655, 0.00037327, 0.00037327, 0.00074655, 0.        ])]\n",
      "\n",
      "[0.000373273609555802]\n",
      "\n"
     ]
    }
   ],
   "source": [
    "train_bbca = bbca_close_scaled[0:train_bbca_close_len, :]\n",
    "\n",
    "x_train_bbca = []\n",
    "y_train_bbca = []\n",
    "\n",
    "for i in range(60, len(train_bbca)):\n",
    "  x_train_bbca.append(train_bbca[i-60:i, 0])\n",
    "  y_train_bbca.append(train_bbca[i, 0])\n",
    "  #check for a bunch of x_train_bbca and y _train_bbca\n",
    "  if i <=60:\n",
    "    print(x_train_bbca)\n",
    "    print()\n",
    "    print(y_train_bbca)\n",
    "    print()"
   ]
  },
  {
   "cell_type": "code",
   "execution_count": 31,
   "metadata": {
    "id": "yeXkDOtiqYi8"
   },
   "outputs": [],
   "source": [
    "#changing data to numpy array\n",
    "x_train_bbca, y_train_bbca = np.array(x_train_bbca), np.array(y_train_bbca)"
   ]
  },
  {
   "cell_type": "code",
   "execution_count": 32,
   "metadata": {
    "id": "0YlWOMc0qYhB"
   },
   "outputs": [],
   "source": [
    "#changing data dimension to 3 dimension because LSTM needs it\n",
    "# [number of samples, number of time steps, and number of features]\n",
    "x_train_bbca = np.reshape(x_train_bbca, (\n",
    "                                         x_train_bbca.shape[0],\n",
    "                                         x_train_bbca.shape[1],\n",
    "                                          1\n",
    "                                        ))"
   ]
  },
  {
   "cell_type": "markdown",
   "metadata": {
    "id": "naMTd-X6p_ln"
   },
   "source": [
    "## **BNGA**"
   ]
  },
  {
   "cell_type": "code",
   "execution_count": 33,
   "metadata": {
    "colab": {
     "base_uri": "https://localhost:8080/",
     "height": 34
    },
    "id": "pyvqY4Z6pyxW",
    "outputId": "04a72aca-ee45-4fd7-a769-1ea4ce393ad3"
   },
   "outputs": [
    {
     "data": {
      "text/plain": [
       "(4135, 6)"
      ]
     },
     "execution_count": 33,
     "metadata": {
      "tags": []
     },
     "output_type": "execute_result"
    }
   ],
   "source": [
    "bnga.shape"
   ]
  },
  {
   "cell_type": "code",
   "execution_count": 34,
   "metadata": {
    "colab": {
     "base_uri": "https://localhost:8080/",
     "height": 34
    },
    "id": "1cnMHs49rFkN",
    "outputId": "bb8171da-0967-4ca8-b432-6c141c2ee208"
   },
   "outputs": [
    {
     "name": "stdout",
     "output_type": "stream",
     "text": [
      "3308\n"
     ]
    }
   ],
   "source": [
    "bnga_close = bnga.filter(['Close'])\n",
    "train_bnga_close_len = math.ceil(len(bnga_close.values) * .8)\n",
    "print(train_bnga_close_len)"
   ]
  },
  {
   "cell_type": "code",
   "execution_count": 35,
   "metadata": {
    "colab": {
     "base_uri": "https://localhost:8080/",
     "height": 136
    },
    "id": "-fzdSTuerLJJ",
    "outputId": "a1f37f60-992c-4ca4-dd57-b134a66beefd"
   },
   "outputs": [
    {
     "data": {
      "text/plain": [
       "array([[0.06552492],\n",
       "       [0.06745221],\n",
       "       [0.06552492],\n",
       "       ...,\n",
       "       [0.22278012],\n",
       "       [0.22059003],\n",
       "       [0.22278012]])"
      ]
     },
     "execution_count": 35,
     "metadata": {
      "tags": []
     },
     "output_type": "execute_result"
    }
   ],
   "source": [
    "scaler = MinMaxScaler(feature_range=(0,1))\n",
    "bnga_close_scaled = scaler.fit_transform(bnga_close.values)\n",
    "bnga_close_scaled"
   ]
  },
  {
   "cell_type": "code",
   "execution_count": 36,
   "metadata": {
    "colab": {
     "base_uri": "https://localhost:8080/",
     "height": 272
    },
    "id": "TLif8b--rRbS",
    "outputId": "b905d697-450a-4138-dc26-a6280f03ee57"
   },
   "outputs": [
    {
     "name": "stdout",
     "output_type": "stream",
     "text": [
      "[array([0.06552492, 0.06745221, 0.06552492, 0.06167081, 0.06167081,\n",
      "       0.05588896, 0.05781624, 0.06359808, 0.07516133, 0.07516133,\n",
      "       0.07323405, 0.07708818, 0.08479731, 0.08479731, 0.08479731,\n",
      "       0.09443327, 0.09443327, 0.09443327, 0.1137052 , 0.1137052 ,\n",
      "       0.12334162, 0.1137052 , 0.10406923, 0.10406923, 0.10406923,\n",
      "       0.10406923, 0.10406923, 0.09443327, 0.10406923, 0.1137052 ,\n",
      "       0.1137052 , 0.1137052 , 0.12334162, 0.12334162, 0.13297757,\n",
      "       0.12334162, 0.13297757, 0.12334162, 0.13297757, 0.14261355,\n",
      "       0.15224953, 0.15224953, 0.16188548, 0.16188548, 0.15224953,\n",
      "       0.15224953, 0.14261355, 0.14261355, 0.13297757, 0.1137052 ,\n",
      "       0.1137052 , 0.1137052 , 0.10406923, 0.1137052 , 0.1137052 ,\n",
      "       0.1137052 , 0.1137052 , 0.12334162, 0.1137052 , 0.1137052 ])]\n",
      "\n",
      "[0.12334161820638732]\n",
      "\n"
     ]
    }
   ],
   "source": [
    "train_bnga = bnga_close_scaled[0:train_bnga_close_len, :]\n",
    "\n",
    "x_train_bnga = []\n",
    "y_train_bnga = []\n",
    "\n",
    "for i in range(60, len(train_bnga)):\n",
    "  x_train_bnga.append(train_bnga[i-60:i, 0])\n",
    "  y_train_bnga.append(train_bnga[i, 0])\n",
    "  #check for a bunch of x_train_bnga and y _train_bnga\n",
    "  if i <=60:\n",
    "    print(x_train_bnga)\n",
    "    print()\n",
    "    print(y_train_bnga)\n",
    "    print()"
   ]
  },
  {
   "cell_type": "code",
   "execution_count": 37,
   "metadata": {
    "id": "IOSUK8u4re3z"
   },
   "outputs": [],
   "source": [
    "#changing data to numpy array\n",
    "x_train_bnga, y_train_bnga = np.array(x_train_bnga), np.array(y_train_bnga)"
   ]
  },
  {
   "cell_type": "code",
   "execution_count": 38,
   "metadata": {
    "id": "rAQ1ckturjHc"
   },
   "outputs": [],
   "source": [
    "#changing data dimension to 3 dimension because LSTM needs it\n",
    "# [number of samples, number of time steps, and number of features]\n",
    "x_train_bnga = np.reshape(x_train_bnga, (\n",
    "                                         x_train_bnga.shape[0],\n",
    "                                         x_train_bnga.shape[1],\n",
    "                                          1\n",
    "                                        ))"
   ]
  },
  {
   "cell_type": "markdown",
   "metadata": {
    "id": "POZFJa9-rxgx"
   },
   "source": [
    "# **Data Modelling**"
   ]
  },
  {
   "cell_type": "markdown",
   "metadata": {
    "id": "3Oe7DEwksFcr"
   },
   "source": [
    "## **BBRI**"
   ]
  },
  {
   "cell_type": "code",
   "execution_count": 39,
   "metadata": {
    "id": "HX8WRmFLrzAH"
   },
   "outputs": [],
   "source": [
    "#Build Architecture for Neural Network\n",
    "model_bbri = Sequential()\n",
    "model_bbri.add(LSTM(50, return_sequences=True,\n",
    "               input_shape=(x_train_bbri.shape[1], 1)))\n",
    "model_bbri.add(LSTM(50, return_sequences=False))\n",
    "model_bbri.add(Dense(25))\n",
    "model_bbri.add(Dense(1))"
   ]
  },
  {
   "cell_type": "code",
   "execution_count": 40,
   "metadata": {
    "id": "rFbvCAutr6lH"
   },
   "outputs": [],
   "source": [
    "#Compile the architecture\n",
    "model_bbri.compile(optimizer='adam', loss='mean_squared_error')"
   ]
  },
  {
   "cell_type": "code",
   "execution_count": 41,
   "metadata": {
    "colab": {
     "base_uri": "https://localhost:8080/",
     "height": 1000
    },
    "id": "GqtBzyDCsM5F",
    "outputId": "2b8fa75b-eba9-4709-a63f-97fa0ea2f788"
   },
   "outputs": [
    {
     "name": "stdout",
     "output_type": "stream",
     "text": [
      "Epoch 1/100\n",
      "3289/3289 [==============================] - 19s 6ms/step - loss: 5.2590e-04\n",
      "Epoch 2/100\n",
      "3289/3289 [==============================] - 19s 6ms/step - loss: 1.9095e-04\n",
      "Epoch 3/100\n",
      "3289/3289 [==============================] - 19s 6ms/step - loss: 1.3722e-04\n",
      "Epoch 4/100\n",
      "3289/3289 [==============================] - 19s 6ms/step - loss: 1.3273e-04\n",
      "Epoch 5/100\n",
      "3289/3289 [==============================] - 19s 6ms/step - loss: 1.1813e-04\n",
      "Epoch 6/100\n",
      "3289/3289 [==============================] - 19s 6ms/step - loss: 1.0025e-04\n",
      "Epoch 7/100\n",
      "3289/3289 [==============================] - 19s 6ms/step - loss: 9.1032e-05\n",
      "Epoch 8/100\n",
      "3289/3289 [==============================] - 19s 6ms/step - loss: 8.5852e-05\n",
      "Epoch 9/100\n",
      "3289/3289 [==============================] - 19s 6ms/step - loss: 8.8897e-05\n",
      "Epoch 10/100\n",
      "3289/3289 [==============================] - 19s 6ms/step - loss: 7.8604e-05\n",
      "Epoch 11/100\n",
      "3289/3289 [==============================] - 19s 6ms/step - loss: 8.0974e-05\n",
      "Epoch 12/100\n",
      "3289/3289 [==============================] - 19s 6ms/step - loss: 7.7556e-05\n",
      "Epoch 13/100\n",
      "3289/3289 [==============================] - 19s 6ms/step - loss: 7.7716e-05\n",
      "Epoch 14/100\n",
      "3289/3289 [==============================] - 19s 6ms/step - loss: 8.1730e-05\n",
      "Epoch 15/100\n",
      "3289/3289 [==============================] - 19s 6ms/step - loss: 7.5244e-05\n",
      "Epoch 16/100\n",
      "3289/3289 [==============================] - 19s 6ms/step - loss: 7.8612e-05\n",
      "Epoch 17/100\n",
      "3289/3289 [==============================] - 19s 6ms/step - loss: 8.0289e-05\n",
      "Epoch 18/100\n",
      "3289/3289 [==============================] - 19s 6ms/step - loss: 7.2968e-05\n",
      "Epoch 19/100\n",
      "3289/3289 [==============================] - 20s 6ms/step - loss: 7.6497e-05\n",
      "Epoch 20/100\n",
      "3289/3289 [==============================] - 20s 6ms/step - loss: 7.0134e-05\n",
      "Epoch 21/100\n",
      "3289/3289 [==============================] - 20s 6ms/step - loss: 7.4543e-05\n",
      "Epoch 22/100\n",
      "3289/3289 [==============================] - 19s 6ms/step - loss: 7.1323e-05\n",
      "Epoch 23/100\n",
      "3289/3289 [==============================] - 19s 6ms/step - loss: 7.0627e-05\n",
      "Epoch 24/100\n",
      "3289/3289 [==============================] - 19s 6ms/step - loss: 7.5096e-05\n",
      "Epoch 25/100\n",
      "3289/3289 [==============================] - 19s 6ms/step - loss: 6.5003e-05\n",
      "Epoch 26/100\n",
      "3289/3289 [==============================] - 19s 6ms/step - loss: 6.7949e-05\n",
      "Epoch 27/100\n",
      "3289/3289 [==============================] - 19s 6ms/step - loss: 6.6337e-05\n",
      "Epoch 28/100\n",
      "3289/3289 [==============================] - 19s 6ms/step - loss: 7.0337e-05\n",
      "Epoch 29/100\n",
      "3289/3289 [==============================] - 19s 6ms/step - loss: 6.7280e-05\n",
      "Epoch 30/100\n",
      "3289/3289 [==============================] - 19s 6ms/step - loss: 6.7107e-05\n",
      "Epoch 31/100\n",
      "3289/3289 [==============================] - 19s 6ms/step - loss: 6.7892e-05\n",
      "Epoch 32/100\n",
      "3289/3289 [==============================] - 19s 6ms/step - loss: 6.8407e-05\n",
      "Epoch 33/100\n",
      "3289/3289 [==============================] - 19s 6ms/step - loss: 6.2293e-05\n",
      "Epoch 34/100\n",
      "3289/3289 [==============================] - 19s 6ms/step - loss: 6.7705e-05\n",
      "Epoch 35/100\n",
      "3289/3289 [==============================] - 19s 6ms/step - loss: 6.6856e-05\n",
      "Epoch 36/100\n",
      "3289/3289 [==============================] - 20s 6ms/step - loss: 6.3180e-05\n",
      "Epoch 37/100\n",
      "3289/3289 [==============================] - 20s 6ms/step - loss: 6.4482e-05\n",
      "Epoch 38/100\n",
      "3289/3289 [==============================] - 19s 6ms/step - loss: 6.9803e-05\n",
      "Epoch 39/100\n",
      "3289/3289 [==============================] - 19s 6ms/step - loss: 6.2512e-05\n",
      "Epoch 40/100\n",
      "3289/3289 [==============================] - 19s 6ms/step - loss: 6.4355e-05\n",
      "Epoch 41/100\n",
      "3289/3289 [==============================] - 19s 6ms/step - loss: 6.2545e-05\n",
      "Epoch 42/100\n",
      "3289/3289 [==============================] - 19s 6ms/step - loss: 6.2722e-05\n",
      "Epoch 43/100\n",
      "3289/3289 [==============================] - 19s 6ms/step - loss: 6.2399e-05\n",
      "Epoch 44/100\n",
      "3289/3289 [==============================] - 19s 6ms/step - loss: 6.1019e-05\n",
      "Epoch 45/100\n",
      "3289/3289 [==============================] - 19s 6ms/step - loss: 6.3521e-05\n",
      "Epoch 46/100\n",
      "3289/3289 [==============================] - 19s 6ms/step - loss: 6.0234e-05\n",
      "Epoch 47/100\n",
      "3289/3289 [==============================] - 19s 6ms/step - loss: 6.0359e-05\n",
      "Epoch 48/100\n",
      "3289/3289 [==============================] - 19s 6ms/step - loss: 6.1152e-05\n",
      "Epoch 49/100\n",
      "3289/3289 [==============================] - 19s 6ms/step - loss: 6.2339e-05\n",
      "Epoch 50/100\n",
      "3289/3289 [==============================] - 19s 6ms/step - loss: 5.9014e-05\n",
      "Epoch 51/100\n",
      "3289/3289 [==============================] - 19s 6ms/step - loss: 5.8259e-05\n",
      "Epoch 52/100\n",
      "3289/3289 [==============================] - 20s 6ms/step - loss: 5.8701e-05\n",
      "Epoch 53/100\n",
      "3289/3289 [==============================] - 19s 6ms/step - loss: 6.1755e-05\n",
      "Epoch 54/100\n",
      "3289/3289 [==============================] - 19s 6ms/step - loss: 5.8962e-05\n",
      "Epoch 55/100\n",
      "3289/3289 [==============================] - 19s 6ms/step - loss: 5.9992e-05\n",
      "Epoch 56/100\n",
      "3289/3289 [==============================] - 19s 6ms/step - loss: 5.9250e-05\n",
      "Epoch 57/100\n",
      "3289/3289 [==============================] - 20s 6ms/step - loss: 5.9503e-05\n",
      "Epoch 58/100\n",
      "3289/3289 [==============================] - 19s 6ms/step - loss: 5.9073e-05\n",
      "Epoch 59/100\n",
      "3289/3289 [==============================] - 19s 6ms/step - loss: 5.8181e-05\n",
      "Epoch 60/100\n",
      "3289/3289 [==============================] - 19s 6ms/step - loss: 5.9163e-05\n",
      "Epoch 61/100\n",
      "3289/3289 [==============================] - 19s 6ms/step - loss: 5.9797e-05\n",
      "Epoch 62/100\n",
      "3289/3289 [==============================] - 20s 6ms/step - loss: 5.6764e-05\n",
      "Epoch 63/100\n",
      "3289/3289 [==============================] - 19s 6ms/step - loss: 5.7045e-05\n",
      "Epoch 64/100\n",
      "3289/3289 [==============================] - 19s 6ms/step - loss: 5.8489e-05\n",
      "Epoch 65/100\n",
      "3289/3289 [==============================] - 19s 6ms/step - loss: 5.7550e-05\n",
      "Epoch 66/100\n",
      "3289/3289 [==============================] - 19s 6ms/step - loss: 5.6454e-05\n",
      "Epoch 67/100\n",
      "3289/3289 [==============================] - 19s 6ms/step - loss: 5.8365e-05\n",
      "Epoch 68/100\n",
      "3289/3289 [==============================] - 20s 6ms/step - loss: 5.7753e-05\n",
      "Epoch 69/100\n",
      "3289/3289 [==============================] - 20s 6ms/step - loss: 5.4944e-05\n",
      "Epoch 70/100\n",
      "3289/3289 [==============================] - 19s 6ms/step - loss: 5.4057e-05\n",
      "Epoch 71/100\n",
      "3289/3289 [==============================] - 19s 6ms/step - loss: 5.5854e-05\n",
      "Epoch 72/100\n",
      "3289/3289 [==============================] - 19s 6ms/step - loss: 5.7702e-05\n",
      "Epoch 73/100\n",
      "3289/3289 [==============================] - 19s 6ms/step - loss: 5.5672e-05\n",
      "Epoch 74/100\n",
      "3289/3289 [==============================] - 19s 6ms/step - loss: 5.6135e-05\n",
      "Epoch 75/100\n",
      "3289/3289 [==============================] - 19s 6ms/step - loss: 5.6218e-05\n",
      "Epoch 76/100\n",
      "3289/3289 [==============================] - 19s 6ms/step - loss: 5.4449e-05\n",
      "Epoch 77/100\n",
      "3289/3289 [==============================] - 19s 6ms/step - loss: 5.4626e-05\n",
      "Epoch 78/100\n",
      "3289/3289 [==============================] - 19s 6ms/step - loss: 5.3990e-05\n",
      "Epoch 79/100\n",
      "3289/3289 [==============================] - 19s 6ms/step - loss: 5.7370e-05\n",
      "Epoch 80/100\n",
      "3289/3289 [==============================] - 19s 6ms/step - loss: 5.4122e-05\n",
      "Epoch 81/100\n",
      "3289/3289 [==============================] - 19s 6ms/step - loss: 5.4333e-05\n",
      "Epoch 82/100\n",
      "3289/3289 [==============================] - 20s 6ms/step - loss: 5.4931e-05\n",
      "Epoch 83/100\n",
      "3289/3289 [==============================] - 19s 6ms/step - loss: 5.5818e-05\n",
      "Epoch 84/100\n",
      "3289/3289 [==============================] - 20s 6ms/step - loss: 5.3569e-05\n",
      "Epoch 85/100\n",
      "3289/3289 [==============================] - 19s 6ms/step - loss: 5.4159e-05\n",
      "Epoch 86/100\n",
      "3289/3289 [==============================] - 20s 6ms/step - loss: 5.3813e-05\n",
      "Epoch 87/100\n",
      "3289/3289 [==============================] - 19s 6ms/step - loss: 5.4904e-05\n",
      "Epoch 88/100\n",
      "3289/3289 [==============================] - 19s 6ms/step - loss: 5.4995e-05\n",
      "Epoch 89/100\n",
      "3289/3289 [==============================] - 19s 6ms/step - loss: 5.2700e-05\n",
      "Epoch 90/100\n",
      "3289/3289 [==============================] - 19s 6ms/step - loss: 5.5720e-05\n",
      "Epoch 91/100\n",
      "3289/3289 [==============================] - 19s 6ms/step - loss: 5.4136e-05\n",
      "Epoch 92/100\n",
      "3289/3289 [==============================] - 19s 6ms/step - loss: 5.5892e-05\n",
      "Epoch 93/100\n",
      "3289/3289 [==============================] - 19s 6ms/step - loss: 5.3434e-05\n",
      "Epoch 94/100\n",
      "3289/3289 [==============================] - 19s 6ms/step - loss: 5.3007e-05\n",
      "Epoch 95/100\n",
      "3289/3289 [==============================] - 19s 6ms/step - loss: 5.1404e-05\n",
      "Epoch 96/100\n",
      "3289/3289 [==============================] - 19s 6ms/step - loss: 5.3123e-05\n",
      "Epoch 97/100\n",
      "3289/3289 [==============================] - 19s 6ms/step - loss: 5.2599e-05\n",
      "Epoch 98/100\n",
      "3289/3289 [==============================] - 19s 6ms/step - loss: 5.3229e-05\n",
      "Epoch 99/100\n",
      "3289/3289 [==============================] - 19s 6ms/step - loss: 5.2903e-05\n",
      "Epoch 100/100\n",
      "3289/3289 [==============================] - 20s 6ms/step - loss: 5.3026e-05\n"
     ]
    },
    {
     "data": {
      "text/plain": [
       "<tensorflow.python.keras.callbacks.History at 0x7fd0802895c0>"
      ]
     },
     "execution_count": 41,
     "metadata": {
      "tags": []
     },
     "output_type": "execute_result"
    }
   ],
   "source": [
    "model_bbri.fit(x_train_bbri, y_train_bbri, batch_size=1, epochs=100)"
   ]
  },
  {
   "cell_type": "markdown",
   "metadata": {
    "id": "Ek7uqvXu1S7O"
   },
   "source": [
    "## **BBNI**"
   ]
  },
  {
   "cell_type": "code",
   "execution_count": 42,
   "metadata": {
    "id": "MSHD7wUf1LmR"
   },
   "outputs": [],
   "source": [
    "#Build Architecture for Neural Network\n",
    "model_bbni = Sequential()\n",
    "model_bbni.add(LSTM(50, return_sequences=True,\n",
    "               input_shape=(x_train_bbni.shape[1], 1)))\n",
    "model_bbni.add(LSTM(50, return_sequences=False))\n",
    "model_bbni.add(Dense(25))\n",
    "model_bbni.add(Dense(1))"
   ]
  },
  {
   "cell_type": "code",
   "execution_count": 43,
   "metadata": {
    "id": "TOmginMz1Zuc"
   },
   "outputs": [],
   "source": [
    "#Compile the architecture\n",
    "model_bbni.compile(optimizer='adam', loss='mean_squared_error')"
   ]
  },
  {
   "cell_type": "code",
   "execution_count": 44,
   "metadata": {
    "colab": {
     "base_uri": "https://localhost:8080/",
     "height": 1000
    },
    "id": "MXLuWkIW1cnk",
    "outputId": "cd530d94-ca83-4a14-c191-8c1072e58378"
   },
   "outputs": [
    {
     "name": "stdout",
     "output_type": "stream",
     "text": [
      "Epoch 1/100\n",
      "3267/3267 [==============================] - 19s 6ms/step - loss: 6.9877e-04\n",
      "Epoch 2/100\n",
      "3267/3267 [==============================] - 19s 6ms/step - loss: 3.6630e-04\n",
      "Epoch 3/100\n",
      "3267/3267 [==============================] - 19s 6ms/step - loss: 2.4249e-04\n",
      "Epoch 4/100\n",
      "3267/3267 [==============================] - 19s 6ms/step - loss: 2.3905e-04\n",
      "Epoch 5/100\n",
      "3267/3267 [==============================] - 19s 6ms/step - loss: 2.0664e-04\n",
      "Epoch 6/100\n",
      "3267/3267 [==============================] - 20s 6ms/step - loss: 2.1645e-04\n",
      "Epoch 7/100\n",
      "3267/3267 [==============================] - 20s 6ms/step - loss: 1.9082e-04\n",
      "Epoch 8/100\n",
      "3267/3267 [==============================] - 19s 6ms/step - loss: 1.8506e-04\n",
      "Epoch 9/100\n",
      "3267/3267 [==============================] - 19s 6ms/step - loss: 1.8324e-04\n",
      "Epoch 10/100\n",
      "3267/3267 [==============================] - 19s 6ms/step - loss: 1.7608e-04\n",
      "Epoch 11/100\n",
      "3267/3267 [==============================] - 20s 6ms/step - loss: 1.7977e-04\n",
      "Epoch 12/100\n",
      "3267/3267 [==============================] - 19s 6ms/step - loss: 1.6951e-04\n",
      "Epoch 13/100\n",
      "3267/3267 [==============================] - 19s 6ms/step - loss: 1.6562e-04\n",
      "Epoch 14/100\n",
      "3267/3267 [==============================] - 20s 6ms/step - loss: 1.6959e-04\n",
      "Epoch 15/100\n",
      "3267/3267 [==============================] - 19s 6ms/step - loss: 1.8709e-04\n",
      "Epoch 16/100\n",
      "3267/3267 [==============================] - 20s 6ms/step - loss: 1.5846e-04\n",
      "Epoch 17/100\n",
      "3267/3267 [==============================] - 19s 6ms/step - loss: 1.6079e-04\n",
      "Epoch 18/100\n",
      "3267/3267 [==============================] - 20s 6ms/step - loss: 1.6733e-04\n",
      "Epoch 19/100\n",
      "3267/3267 [==============================] - 19s 6ms/step - loss: 1.6034e-04\n",
      "Epoch 20/100\n",
      "3267/3267 [==============================] - 19s 6ms/step - loss: 1.5928e-04\n",
      "Epoch 21/100\n",
      "3267/3267 [==============================] - 19s 6ms/step - loss: 1.5054e-04\n",
      "Epoch 22/100\n",
      "3267/3267 [==============================] - 19s 6ms/step - loss: 1.5865e-04\n",
      "Epoch 23/100\n",
      "3267/3267 [==============================] - 19s 6ms/step - loss: 1.5404e-04\n",
      "Epoch 24/100\n",
      "3267/3267 [==============================] - 19s 6ms/step - loss: 1.5158e-04\n",
      "Epoch 25/100\n",
      "3267/3267 [==============================] - 19s 6ms/step - loss: 1.5003e-04\n",
      "Epoch 26/100\n",
      "3267/3267 [==============================] - 19s 6ms/step - loss: 1.5497e-04\n",
      "Epoch 27/100\n",
      "3267/3267 [==============================] - 19s 6ms/step - loss: 1.4728e-04\n",
      "Epoch 28/100\n",
      "3267/3267 [==============================] - 19s 6ms/step - loss: 1.5352e-04\n",
      "Epoch 29/100\n",
      "3267/3267 [==============================] - 19s 6ms/step - loss: 1.4561e-04\n",
      "Epoch 30/100\n",
      "3267/3267 [==============================] - 19s 6ms/step - loss: 1.4969e-04\n",
      "Epoch 31/100\n",
      "3267/3267 [==============================] - 19s 6ms/step - loss: 1.4634e-04\n",
      "Epoch 32/100\n",
      "3267/3267 [==============================] - 20s 6ms/step - loss: 1.5593e-04\n",
      "Epoch 33/100\n",
      "3267/3267 [==============================] - 19s 6ms/step - loss: 1.4088e-04\n",
      "Epoch 34/100\n",
      "3267/3267 [==============================] - 19s 6ms/step - loss: 1.4862e-04\n",
      "Epoch 35/100\n",
      "3267/3267 [==============================] - 19s 6ms/step - loss: 1.4643e-04\n",
      "Epoch 36/100\n",
      "3267/3267 [==============================] - 19s 6ms/step - loss: 1.4824e-04\n",
      "Epoch 37/100\n",
      "3267/3267 [==============================] - 19s 6ms/step - loss: 1.5390e-04\n",
      "Epoch 38/100\n",
      "3267/3267 [==============================] - 19s 6ms/step - loss: 1.4016e-04\n",
      "Epoch 39/100\n",
      "3267/3267 [==============================] - 19s 6ms/step - loss: 1.4633e-04\n",
      "Epoch 40/100\n",
      "3267/3267 [==============================] - 19s 6ms/step - loss: 1.3999e-04\n",
      "Epoch 41/100\n",
      "3267/3267 [==============================] - 19s 6ms/step - loss: 1.4272e-04\n",
      "Epoch 42/100\n",
      "3267/3267 [==============================] - 19s 6ms/step - loss: 1.4715e-04\n",
      "Epoch 43/100\n",
      "3267/3267 [==============================] - 19s 6ms/step - loss: 1.4527e-04\n",
      "Epoch 44/100\n",
      "3267/3267 [==============================] - 19s 6ms/step - loss: 1.3729e-04\n",
      "Epoch 45/100\n",
      "3267/3267 [==============================] - 19s 6ms/step - loss: 1.4413e-04\n",
      "Epoch 46/100\n",
      "3267/3267 [==============================] - 19s 6ms/step - loss: 1.4076e-04\n",
      "Epoch 47/100\n",
      "3267/3267 [==============================] - 19s 6ms/step - loss: 1.4822e-04\n",
      "Epoch 48/100\n",
      "3267/3267 [==============================] - 19s 6ms/step - loss: 1.4240e-04\n",
      "Epoch 49/100\n",
      "3267/3267 [==============================] - 19s 6ms/step - loss: 1.3550e-04\n",
      "Epoch 50/100\n",
      "3267/3267 [==============================] - 19s 6ms/step - loss: 1.3807e-04\n",
      "Epoch 51/100\n",
      "3267/3267 [==============================] - 19s 6ms/step - loss: 1.4073e-04\n",
      "Epoch 52/100\n",
      "3267/3267 [==============================] - 19s 6ms/step - loss: 1.3826e-04\n",
      "Epoch 53/100\n",
      "3267/3267 [==============================] - 19s 6ms/step - loss: 1.3567e-04\n",
      "Epoch 54/100\n",
      "3267/3267 [==============================] - 19s 6ms/step - loss: 1.3362e-04\n",
      "Epoch 55/100\n",
      "3267/3267 [==============================] - 19s 6ms/step - loss: 1.4322e-04\n",
      "Epoch 56/100\n",
      "3267/3267 [==============================] - 19s 6ms/step - loss: 1.4368e-04\n",
      "Epoch 57/100\n",
      "3267/3267 [==============================] - 19s 6ms/step - loss: 1.3708e-04\n",
      "Epoch 58/100\n",
      "3267/3267 [==============================] - 19s 6ms/step - loss: 1.3626e-04\n",
      "Epoch 59/100\n",
      "3267/3267 [==============================] - 19s 6ms/step - loss: 1.4061e-04\n",
      "Epoch 60/100\n",
      "3267/3267 [==============================] - 19s 6ms/step - loss: 1.3829e-04\n",
      "Epoch 61/100\n",
      "3267/3267 [==============================] - 19s 6ms/step - loss: 1.3926e-04\n",
      "Epoch 62/100\n",
      "3267/3267 [==============================] - 19s 6ms/step - loss: 1.3192e-04\n",
      "Epoch 63/100\n",
      "3267/3267 [==============================] - 19s 6ms/step - loss: 1.3702e-04\n",
      "Epoch 64/100\n",
      "3267/3267 [==============================] - 19s 6ms/step - loss: 1.3583e-04\n",
      "Epoch 65/100\n",
      "3267/3267 [==============================] - 19s 6ms/step - loss: 1.3347e-04\n",
      "Epoch 66/100\n",
      "3267/3267 [==============================] - 19s 6ms/step - loss: 1.3671e-04\n",
      "Epoch 67/100\n",
      "3267/3267 [==============================] - 19s 6ms/step - loss: 1.3782e-04\n",
      "Epoch 68/100\n",
      "3267/3267 [==============================] - 19s 6ms/step - loss: 1.3551e-04\n",
      "Epoch 69/100\n",
      "3267/3267 [==============================] - 19s 6ms/step - loss: 1.3621e-04\n",
      "Epoch 70/100\n",
      "3267/3267 [==============================] - 19s 6ms/step - loss: 1.3077e-04\n",
      "Epoch 71/100\n",
      "3267/3267 [==============================] - 19s 6ms/step - loss: 1.3794e-04\n",
      "Epoch 72/100\n",
      "3267/3267 [==============================] - 19s 6ms/step - loss: 1.3526e-04\n",
      "Epoch 73/100\n",
      "3267/3267 [==============================] - 19s 6ms/step - loss: 1.3635e-04\n",
      "Epoch 74/100\n",
      "3267/3267 [==============================] - 19s 6ms/step - loss: 1.3781e-04\n",
      "Epoch 75/100\n",
      "3267/3267 [==============================] - 19s 6ms/step - loss: 1.3319e-04\n",
      "Epoch 76/100\n",
      "3267/3267 [==============================] - 19s 6ms/step - loss: 1.3376e-04\n",
      "Epoch 77/100\n",
      "3267/3267 [==============================] - 19s 6ms/step - loss: 1.3427e-04\n",
      "Epoch 78/100\n",
      "3267/3267 [==============================] - 19s 6ms/step - loss: 1.3365e-04\n",
      "Epoch 79/100\n",
      "3267/3267 [==============================] - 19s 6ms/step - loss: 1.3450e-04\n",
      "Epoch 80/100\n",
      "3267/3267 [==============================] - 19s 6ms/step - loss: 1.3209e-04\n",
      "Epoch 81/100\n",
      "3267/3267 [==============================] - 19s 6ms/step - loss: 1.3296e-04\n",
      "Epoch 82/100\n",
      "3267/3267 [==============================] - 19s 6ms/step - loss: 1.3187e-04\n",
      "Epoch 83/100\n",
      "3267/3267 [==============================] - 19s 6ms/step - loss: 1.3608e-04\n",
      "Epoch 84/100\n",
      "3267/3267 [==============================] - 19s 6ms/step - loss: 1.2910e-04\n",
      "Epoch 85/100\n",
      "3267/3267 [==============================] - 19s 6ms/step - loss: 1.3614e-04\n",
      "Epoch 86/100\n",
      "3267/3267 [==============================] - 19s 6ms/step - loss: 1.3424e-04\n",
      "Epoch 87/100\n",
      "3267/3267 [==============================] - 19s 6ms/step - loss: 1.2865e-04\n",
      "Epoch 88/100\n",
      "3267/3267 [==============================] - 19s 6ms/step - loss: 1.3085e-04\n",
      "Epoch 89/100\n",
      "3267/3267 [==============================] - 19s 6ms/step - loss: 1.3880e-04\n",
      "Epoch 90/100\n",
      "3267/3267 [==============================] - 19s 6ms/step - loss: 1.3117e-04\n",
      "Epoch 91/100\n",
      "3267/3267 [==============================] - 19s 6ms/step - loss: 1.3166e-04\n",
      "Epoch 92/100\n",
      "3267/3267 [==============================] - 19s 6ms/step - loss: 1.3291e-04\n",
      "Epoch 93/100\n",
      "3267/3267 [==============================] - 19s 6ms/step - loss: 1.3051e-04\n",
      "Epoch 94/100\n",
      "3267/3267 [==============================] - 19s 6ms/step - loss: 1.3258e-04\n",
      "Epoch 95/100\n",
      "3267/3267 [==============================] - 19s 6ms/step - loss: 1.3511e-04\n",
      "Epoch 96/100\n",
      "3267/3267 [==============================] - 19s 6ms/step - loss: 1.2899e-04\n",
      "Epoch 97/100\n",
      "3267/3267 [==============================] - 19s 6ms/step - loss: 1.3170e-04\n",
      "Epoch 98/100\n",
      "3267/3267 [==============================] - 20s 6ms/step - loss: 1.3048e-04\n",
      "Epoch 99/100\n",
      "3267/3267 [==============================] - 19s 6ms/step - loss: 1.3515e-04\n",
      "Epoch 100/100\n",
      "3267/3267 [==============================] - 19s 6ms/step - loss: 1.3115e-04\n"
     ]
    },
    {
     "data": {
      "text/plain": [
       "<tensorflow.python.keras.callbacks.History at 0x7fd02e04ce10>"
      ]
     },
     "execution_count": 44,
     "metadata": {
      "tags": []
     },
     "output_type": "execute_result"
    }
   ],
   "source": [
    "model_bbni.fit(x_train_bbni, y_train_bbni, batch_size=1, epochs=100)"
   ]
  },
  {
   "cell_type": "markdown",
   "metadata": {
    "id": "lX7OpVSO1m6H"
   },
   "source": [
    "## **BMRI**"
   ]
  },
  {
   "cell_type": "code",
   "execution_count": 45,
   "metadata": {
    "id": "q-d8jYEk1kuu"
   },
   "outputs": [],
   "source": [
    "#Build Architecture for Neural Network\n",
    "model_bmri = Sequential()\n",
    "model_bmri.add(LSTM(50, return_sequences=True,\n",
    "               input_shape=(x_train_bmri.shape[1], 1)))\n",
    "model_bmri.add(LSTM(50, return_sequences=False))\n",
    "model_bmri.add(Dense(25))\n",
    "model_bmri.add(Dense(1))"
   ]
  },
  {
   "cell_type": "code",
   "execution_count": 46,
   "metadata": {
    "id": "pRXLrvoq1thE"
   },
   "outputs": [],
   "source": [
    "#Compile the architecture\n",
    "model_bmri.compile(optimizer='adam', loss='mean_squared_error')"
   ]
  },
  {
   "cell_type": "code",
   "execution_count": 47,
   "metadata": {
    "colab": {
     "base_uri": "https://localhost:8080/",
     "height": 1000
    },
    "id": "7jdFgdT_108X",
    "outputId": "2a0d67b3-b876-4100-94f0-d618907e7de4"
   },
   "outputs": [
    {
     "name": "stdout",
     "output_type": "stream",
     "text": [
      "Epoch 1/100\n",
      "3283/3283 [==============================] - 19s 6ms/step - loss: 6.6119e-04\n",
      "Epoch 2/100\n",
      "3283/3283 [==============================] - 19s 6ms/step - loss: 2.9250e-04\n",
      "Epoch 3/100\n",
      "3283/3283 [==============================] - 19s 6ms/step - loss: 2.0866e-04\n",
      "Epoch 4/100\n",
      "3283/3283 [==============================] - 19s 6ms/step - loss: 1.9870e-04\n",
      "Epoch 5/100\n",
      "3283/3283 [==============================] - 19s 6ms/step - loss: 1.6586e-04\n",
      "Epoch 6/100\n",
      "3283/3283 [==============================] - 19s 6ms/step - loss: 1.5805e-04\n",
      "Epoch 7/100\n",
      "3283/3283 [==============================] - 20s 6ms/step - loss: 1.5068e-04\n",
      "Epoch 8/100\n",
      "3283/3283 [==============================] - 19s 6ms/step - loss: 1.3710e-04\n",
      "Epoch 9/100\n",
      "3283/3283 [==============================] - 19s 6ms/step - loss: 1.3103e-04\n",
      "Epoch 10/100\n",
      "3283/3283 [==============================] - 19s 6ms/step - loss: 1.3339e-04\n",
      "Epoch 11/100\n",
      "3283/3283 [==============================] - 19s 6ms/step - loss: 1.3515e-04\n",
      "Epoch 12/100\n",
      "3283/3283 [==============================] - 19s 6ms/step - loss: 1.3358e-04\n",
      "Epoch 13/100\n",
      "3283/3283 [==============================] - 19s 6ms/step - loss: 1.1785e-04\n",
      "Epoch 14/100\n",
      "3283/3283 [==============================] - 19s 6ms/step - loss: 1.3089e-04\n",
      "Epoch 15/100\n",
      "3283/3283 [==============================] - 19s 6ms/step - loss: 1.3190e-04\n",
      "Epoch 16/100\n",
      "3283/3283 [==============================] - 19s 6ms/step - loss: 1.2191e-04\n",
      "Epoch 17/100\n",
      "3283/3283 [==============================] - 19s 6ms/step - loss: 1.1650e-04\n",
      "Epoch 18/100\n",
      "3283/3283 [==============================] - 20s 6ms/step - loss: 1.1619e-04\n",
      "Epoch 19/100\n",
      "3283/3283 [==============================] - 19s 6ms/step - loss: 1.1454e-04\n",
      "Epoch 20/100\n",
      "3283/3283 [==============================] - 19s 6ms/step - loss: 1.1749e-04\n",
      "Epoch 21/100\n",
      "3283/3283 [==============================] - 19s 6ms/step - loss: 1.1624e-04\n",
      "Epoch 22/100\n",
      "3283/3283 [==============================] - 19s 6ms/step - loss: 1.2168e-04\n",
      "Epoch 23/100\n",
      "3283/3283 [==============================] - 19s 6ms/step - loss: 1.1598e-04\n",
      "Epoch 24/100\n",
      "3283/3283 [==============================] - 19s 6ms/step - loss: 1.0755e-04\n",
      "Epoch 25/100\n",
      "3283/3283 [==============================] - 19s 6ms/step - loss: 1.1369e-04\n",
      "Epoch 26/100\n",
      "3283/3283 [==============================] - 19s 6ms/step - loss: 1.0612e-04\n",
      "Epoch 27/100\n",
      "3283/3283 [==============================] - 19s 6ms/step - loss: 1.1316e-04\n",
      "Epoch 28/100\n",
      "3283/3283 [==============================] - 19s 6ms/step - loss: 1.0639e-04\n",
      "Epoch 29/100\n",
      "3283/3283 [==============================] - 19s 6ms/step - loss: 1.1005e-04\n",
      "Epoch 30/100\n",
      "3283/3283 [==============================] - 19s 6ms/step - loss: 1.0452e-04\n",
      "Epoch 31/100\n",
      "3283/3283 [==============================] - 19s 6ms/step - loss: 1.0355e-04\n",
      "Epoch 32/100\n",
      "3283/3283 [==============================] - 19s 6ms/step - loss: 1.0429e-04\n",
      "Epoch 33/100\n",
      "3283/3283 [==============================] - 19s 6ms/step - loss: 1.0310e-04\n",
      "Epoch 34/100\n",
      "3283/3283 [==============================] - 19s 6ms/step - loss: 1.0209e-04\n",
      "Epoch 35/100\n",
      "3283/3283 [==============================] - 19s 6ms/step - loss: 1.0396e-04\n",
      "Epoch 36/100\n",
      "3283/3283 [==============================] - 19s 6ms/step - loss: 1.0453e-04\n",
      "Epoch 37/100\n",
      "3283/3283 [==============================] - 19s 6ms/step - loss: 1.0261e-04\n",
      "Epoch 38/100\n",
      "3283/3283 [==============================] - 19s 6ms/step - loss: 1.0144e-04\n",
      "Epoch 39/100\n",
      "3283/3283 [==============================] - 19s 6ms/step - loss: 9.8976e-05\n",
      "Epoch 40/100\n",
      "3283/3283 [==============================] - 19s 6ms/step - loss: 1.0105e-04\n",
      "Epoch 41/100\n",
      "3283/3283 [==============================] - 19s 6ms/step - loss: 9.7629e-05\n",
      "Epoch 42/100\n",
      "3283/3283 [==============================] - 19s 6ms/step - loss: 9.8613e-05\n",
      "Epoch 43/100\n",
      "3283/3283 [==============================] - 19s 6ms/step - loss: 9.8445e-05\n",
      "Epoch 44/100\n",
      "3283/3283 [==============================] - 19s 6ms/step - loss: 9.9964e-05\n",
      "Epoch 45/100\n",
      "3283/3283 [==============================] - 19s 6ms/step - loss: 1.0226e-04\n",
      "Epoch 46/100\n",
      "3283/3283 [==============================] - 19s 6ms/step - loss: 9.9278e-05\n",
      "Epoch 47/100\n",
      "3283/3283 [==============================] - 20s 6ms/step - loss: 9.9559e-05\n",
      "Epoch 48/100\n",
      "3283/3283 [==============================] - 19s 6ms/step - loss: 9.4980e-05\n",
      "Epoch 49/100\n",
      "3283/3283 [==============================] - 19s 6ms/step - loss: 9.8255e-05\n",
      "Epoch 50/100\n",
      "3283/3283 [==============================] - 19s 6ms/step - loss: 9.5587e-05\n",
      "Epoch 51/100\n",
      "3283/3283 [==============================] - 19s 6ms/step - loss: 9.5447e-05\n",
      "Epoch 52/100\n",
      "3283/3283 [==============================] - 19s 6ms/step - loss: 9.7244e-05\n",
      "Epoch 53/100\n",
      "3283/3283 [==============================] - 19s 6ms/step - loss: 9.6174e-05\n",
      "Epoch 54/100\n",
      "3283/3283 [==============================] - 19s 6ms/step - loss: 9.8181e-05\n",
      "Epoch 55/100\n",
      "3283/3283 [==============================] - 19s 6ms/step - loss: 9.8743e-05\n",
      "Epoch 56/100\n",
      "3283/3283 [==============================] - 19s 6ms/step - loss: 9.3829e-05\n",
      "Epoch 57/100\n",
      "3283/3283 [==============================] - 19s 6ms/step - loss: 9.5417e-05\n",
      "Epoch 58/100\n",
      "3283/3283 [==============================] - 19s 6ms/step - loss: 9.4085e-05\n",
      "Epoch 59/100\n",
      "3283/3283 [==============================] - 19s 6ms/step - loss: 9.6111e-05\n",
      "Epoch 60/100\n",
      "3283/3283 [==============================] - 19s 6ms/step - loss: 9.5636e-05\n",
      "Epoch 61/100\n",
      "3283/3283 [==============================] - 19s 6ms/step - loss: 9.2859e-05\n",
      "Epoch 62/100\n",
      "3283/3283 [==============================] - 19s 6ms/step - loss: 9.3304e-05\n",
      "Epoch 63/100\n",
      "3283/3283 [==============================] - 20s 6ms/step - loss: 9.2298e-05\n",
      "Epoch 64/100\n",
      "3283/3283 [==============================] - 19s 6ms/step - loss: 9.5195e-05\n",
      "Epoch 65/100\n",
      "3283/3283 [==============================] - 19s 6ms/step - loss: 9.1321e-05\n",
      "Epoch 66/100\n",
      "3283/3283 [==============================] - 19s 6ms/step - loss: 9.5194e-05\n",
      "Epoch 67/100\n",
      "3283/3283 [==============================] - 19s 6ms/step - loss: 9.4573e-05\n",
      "Epoch 68/100\n",
      "3283/3283 [==============================] - 19s 6ms/step - loss: 9.2389e-05\n",
      "Epoch 69/100\n",
      "3283/3283 [==============================] - 19s 6ms/step - loss: 9.0564e-05\n",
      "Epoch 70/100\n",
      "3283/3283 [==============================] - 20s 6ms/step - loss: 9.2838e-05\n",
      "Epoch 71/100\n",
      "3283/3283 [==============================] - 19s 6ms/step - loss: 8.9129e-05\n",
      "Epoch 72/100\n",
      "3283/3283 [==============================] - 19s 6ms/step - loss: 9.0834e-05\n",
      "Epoch 73/100\n",
      "3283/3283 [==============================] - 19s 6ms/step - loss: 9.2867e-05\n",
      "Epoch 74/100\n",
      "3283/3283 [==============================] - 19s 6ms/step - loss: 9.1868e-05\n",
      "Epoch 75/100\n",
      "3283/3283 [==============================] - 20s 6ms/step - loss: 8.9340e-05\n",
      "Epoch 76/100\n",
      "3283/3283 [==============================] - 19s 6ms/step - loss: 8.8078e-05\n",
      "Epoch 77/100\n",
      "3283/3283 [==============================] - 19s 6ms/step - loss: 8.9697e-05\n",
      "Epoch 78/100\n",
      "3283/3283 [==============================] - 19s 6ms/step - loss: 9.1563e-05\n",
      "Epoch 79/100\n",
      "3283/3283 [==============================] - 20s 6ms/step - loss: 9.1406e-05\n",
      "Epoch 80/100\n",
      "3283/3283 [==============================] - 19s 6ms/step - loss: 9.1757e-05\n",
      "Epoch 81/100\n",
      "3283/3283 [==============================] - 19s 6ms/step - loss: 9.1104e-05\n",
      "Epoch 82/100\n",
      "3283/3283 [==============================] - 19s 6ms/step - loss: 9.1779e-05\n",
      "Epoch 83/100\n",
      "3283/3283 [==============================] - 19s 6ms/step - loss: 8.9035e-05\n",
      "Epoch 84/100\n",
      "3283/3283 [==============================] - 19s 6ms/step - loss: 9.5513e-05\n",
      "Epoch 85/100\n",
      "3283/3283 [==============================] - 19s 6ms/step - loss: 9.2909e-05\n",
      "Epoch 86/100\n",
      "3283/3283 [==============================] - 19s 6ms/step - loss: 8.8949e-05\n",
      "Epoch 87/100\n",
      "3283/3283 [==============================] - 19s 6ms/step - loss: 8.9698e-05\n",
      "Epoch 88/100\n",
      "3283/3283 [==============================] - 19s 6ms/step - loss: 9.1436e-05\n",
      "Epoch 89/100\n",
      "3283/3283 [==============================] - 19s 6ms/step - loss: 8.9791e-05\n",
      "Epoch 90/100\n",
      "3283/3283 [==============================] - 20s 6ms/step - loss: 9.0802e-05\n",
      "Epoch 91/100\n",
      "3283/3283 [==============================] - 20s 6ms/step - loss: 8.9631e-05\n",
      "Epoch 92/100\n",
      "3283/3283 [==============================] - 20s 6ms/step - loss: 9.0211e-05\n",
      "Epoch 93/100\n",
      "3283/3283 [==============================] - 19s 6ms/step - loss: 9.2094e-05\n",
      "Epoch 94/100\n",
      "3283/3283 [==============================] - 19s 6ms/step - loss: 8.8126e-05\n",
      "Epoch 95/100\n",
      "3283/3283 [==============================] - 20s 6ms/step - loss: 9.0284e-05\n",
      "Epoch 96/100\n",
      "3283/3283 [==============================] - 19s 6ms/step - loss: 8.7881e-05\n",
      "Epoch 97/100\n",
      "3283/3283 [==============================] - 19s 6ms/step - loss: 8.9118e-05\n",
      "Epoch 98/100\n",
      "3283/3283 [==============================] - 19s 6ms/step - loss: 9.0532e-05\n",
      "Epoch 99/100\n",
      "3283/3283 [==============================] - 19s 6ms/step - loss: 8.5603e-05\n",
      "Epoch 100/100\n",
      "3283/3283 [==============================] - 20s 6ms/step - loss: 9.0954e-05\n"
     ]
    },
    {
     "data": {
      "text/plain": [
       "<tensorflow.python.keras.callbacks.History at 0x7fd0270aff60>"
      ]
     },
     "execution_count": 47,
     "metadata": {
      "tags": []
     },
     "output_type": "execute_result"
    }
   ],
   "source": [
    "model_bmri.fit(x_train_bmri, y_train_bmri, batch_size=1, epochs=100)"
   ]
  },
  {
   "cell_type": "markdown",
   "metadata": {
    "id": "_0PRMDwI17ti"
   },
   "source": [
    "## **BBCA**"
   ]
  },
  {
   "cell_type": "code",
   "execution_count": 48,
   "metadata": {
    "id": "O0gfz-Li1-iG"
   },
   "outputs": [],
   "source": [
    "#Build Architecture for Neural Network\n",
    "model_bbca = Sequential()\n",
    "model_bbca.add(LSTM(50, return_sequences=True,\n",
    "               input_shape=(x_train_bbca.shape[1], 1)))\n",
    "model_bbca.add(LSTM(50, return_sequences=False))\n",
    "model_bbca.add(Dense(25))\n",
    "model_bbca.add(Dense(1))"
   ]
  },
  {
   "cell_type": "code",
   "execution_count": 49,
   "metadata": {
    "id": "rO3sYLwV2Djt"
   },
   "outputs": [],
   "source": [
    "#Compile the architecture\n",
    "model_bbca.compile(optimizer='adam', loss='mean_squared_error')"
   ]
  },
  {
   "cell_type": "code",
   "execution_count": 50,
   "metadata": {
    "colab": {
     "base_uri": "https://localhost:8080/",
     "height": 1000
    },
    "id": "IOA9yVOy2E7O",
    "outputId": "e4cc6aed-4366-4ead-bc66-9798ee42a2be"
   },
   "outputs": [
    {
     "name": "stdout",
     "output_type": "stream",
     "text": [
      "Epoch 1/100\n",
      "3194/3194 [==============================] - 18s 6ms/step - loss: 3.3403e-04\n",
      "Epoch 2/100\n",
      "3194/3194 [==============================] - 18s 6ms/step - loss: 1.3913e-04\n",
      "Epoch 3/100\n",
      "3194/3194 [==============================] - 18s 6ms/step - loss: 8.9368e-05\n",
      "Epoch 4/100\n",
      "3194/3194 [==============================] - 19s 6ms/step - loss: 8.1921e-05\n",
      "Epoch 5/100\n",
      "3194/3194 [==============================] - 19s 6ms/step - loss: 6.0926e-05\n",
      "Epoch 6/100\n",
      "3194/3194 [==============================] - 19s 6ms/step - loss: 6.4187e-05\n",
      "Epoch 7/100\n",
      "3194/3194 [==============================] - 19s 6ms/step - loss: 5.9589e-05\n",
      "Epoch 8/100\n",
      "3194/3194 [==============================] - 19s 6ms/step - loss: 5.5472e-05\n",
      "Epoch 9/100\n",
      "3194/3194 [==============================] - 19s 6ms/step - loss: 4.9381e-05\n",
      "Epoch 10/100\n",
      "3194/3194 [==============================] - 18s 6ms/step - loss: 4.4956e-05\n",
      "Epoch 11/100\n",
      "3194/3194 [==============================] - 19s 6ms/step - loss: 4.8912e-05\n",
      "Epoch 12/100\n",
      "3194/3194 [==============================] - 19s 6ms/step - loss: 5.5800e-05\n",
      "Epoch 13/100\n",
      "3194/3194 [==============================] - 19s 6ms/step - loss: 4.3085e-05\n",
      "Epoch 14/100\n",
      "3194/3194 [==============================] - 18s 6ms/step - loss: 4.3413e-05\n",
      "Epoch 15/100\n",
      "3194/3194 [==============================] - 18s 6ms/step - loss: 4.0947e-05\n",
      "Epoch 16/100\n",
      "3194/3194 [==============================] - 18s 6ms/step - loss: 4.3118e-05\n",
      "Epoch 17/100\n",
      "3194/3194 [==============================] - 19s 6ms/step - loss: 3.8191e-05\n",
      "Epoch 18/100\n",
      "3194/3194 [==============================] - 19s 6ms/step - loss: 4.0569e-05\n",
      "Epoch 19/100\n",
      "3194/3194 [==============================] - 19s 6ms/step - loss: 3.7744e-05\n",
      "Epoch 20/100\n",
      "3194/3194 [==============================] - 19s 6ms/step - loss: 3.9799e-05\n",
      "Epoch 21/100\n",
      "3194/3194 [==============================] - 19s 6ms/step - loss: 3.7094e-05\n",
      "Epoch 22/100\n",
      "3194/3194 [==============================] - 19s 6ms/step - loss: 3.8400e-05\n",
      "Epoch 23/100\n",
      "3194/3194 [==============================] - 18s 6ms/step - loss: 3.6232e-05\n",
      "Epoch 24/100\n",
      "3194/3194 [==============================] - 19s 6ms/step - loss: 3.8858e-05\n",
      "Epoch 25/100\n",
      "3194/3194 [==============================] - 19s 6ms/step - loss: 3.6555e-05\n",
      "Epoch 26/100\n",
      "3194/3194 [==============================] - 19s 6ms/step - loss: 3.4659e-05\n",
      "Epoch 27/100\n",
      "3194/3194 [==============================] - 19s 6ms/step - loss: 3.7982e-05\n",
      "Epoch 28/100\n",
      "3194/3194 [==============================] - 19s 6ms/step - loss: 3.4919e-05\n",
      "Epoch 29/100\n",
      "3194/3194 [==============================] - 19s 6ms/step - loss: 3.4391e-05\n",
      "Epoch 30/100\n",
      "3194/3194 [==============================] - 19s 6ms/step - loss: 3.8138e-05\n",
      "Epoch 31/100\n",
      "3194/3194 [==============================] - 19s 6ms/step - loss: 3.2628e-05\n",
      "Epoch 32/100\n",
      "3194/3194 [==============================] - 19s 6ms/step - loss: 3.4889e-05\n",
      "Epoch 33/100\n",
      "3194/3194 [==============================] - 19s 6ms/step - loss: 3.4588e-05\n",
      "Epoch 34/100\n",
      "3194/3194 [==============================] - 19s 6ms/step - loss: 3.5455e-05\n",
      "Epoch 35/100\n",
      "3194/3194 [==============================] - 19s 6ms/step - loss: 3.3039e-05\n",
      "Epoch 36/100\n",
      "3194/3194 [==============================] - 19s 6ms/step - loss: 3.0580e-05\n",
      "Epoch 37/100\n",
      "3194/3194 [==============================] - 19s 6ms/step - loss: 3.2682e-05\n",
      "Epoch 38/100\n",
      "3194/3194 [==============================] - 19s 6ms/step - loss: 3.1260e-05\n",
      "Epoch 39/100\n",
      "3194/3194 [==============================] - 19s 6ms/step - loss: 3.2094e-05\n",
      "Epoch 40/100\n",
      "3194/3194 [==============================] - 19s 6ms/step - loss: 3.1517e-05\n",
      "Epoch 41/100\n",
      "3194/3194 [==============================] - 19s 6ms/step - loss: 3.4370e-05\n",
      "Epoch 42/100\n",
      "3194/3194 [==============================] - 19s 6ms/step - loss: 3.1388e-05\n",
      "Epoch 43/100\n",
      "3194/3194 [==============================] - 19s 6ms/step - loss: 3.2713e-05\n",
      "Epoch 44/100\n",
      "3194/3194 [==============================] - 19s 6ms/step - loss: 3.0065e-05\n",
      "Epoch 45/100\n",
      "3194/3194 [==============================] - 19s 6ms/step - loss: 3.1126e-05\n",
      "Epoch 46/100\n",
      "3194/3194 [==============================] - 19s 6ms/step - loss: 3.2621e-05\n",
      "Epoch 47/100\n",
      "3194/3194 [==============================] - 19s 6ms/step - loss: 3.0248e-05\n",
      "Epoch 48/100\n",
      "3194/3194 [==============================] - 19s 6ms/step - loss: 3.1350e-05\n",
      "Epoch 49/100\n",
      "3194/3194 [==============================] - 19s 6ms/step - loss: 3.3111e-05\n",
      "Epoch 50/100\n",
      "3194/3194 [==============================] - 19s 6ms/step - loss: 3.2594e-05\n",
      "Epoch 51/100\n",
      "3194/3194 [==============================] - 18s 6ms/step - loss: 3.1291e-05\n",
      "Epoch 52/100\n",
      "3194/3194 [==============================] - 19s 6ms/step - loss: 3.1424e-05\n",
      "Epoch 53/100\n",
      "3194/3194 [==============================] - 19s 6ms/step - loss: 3.1565e-05\n",
      "Epoch 54/100\n",
      "3194/3194 [==============================] - 19s 6ms/step - loss: 3.0324e-05\n",
      "Epoch 55/100\n",
      "3194/3194 [==============================] - 19s 6ms/step - loss: 3.0343e-05\n",
      "Epoch 56/100\n",
      "3194/3194 [==============================] - 19s 6ms/step - loss: 3.1934e-05\n",
      "Epoch 57/100\n",
      "3194/3194 [==============================] - 19s 6ms/step - loss: 3.0201e-05\n",
      "Epoch 58/100\n",
      "3194/3194 [==============================] - 19s 6ms/step - loss: 3.0430e-05\n",
      "Epoch 59/100\n",
      "3194/3194 [==============================] - 19s 6ms/step - loss: 3.0524e-05\n",
      "Epoch 60/100\n",
      "3194/3194 [==============================] - 19s 6ms/step - loss: 2.8552e-05\n",
      "Epoch 61/100\n",
      "3194/3194 [==============================] - 20s 6ms/step - loss: 3.0272e-05\n",
      "Epoch 62/100\n",
      "3194/3194 [==============================] - 19s 6ms/step - loss: 2.9104e-05\n",
      "Epoch 63/100\n",
      "3194/3194 [==============================] - 19s 6ms/step - loss: 2.9757e-05\n",
      "Epoch 64/100\n",
      "3194/3194 [==============================] - 19s 6ms/step - loss: 3.1345e-05\n",
      "Epoch 65/100\n",
      "3194/3194 [==============================] - 19s 6ms/step - loss: 2.9985e-05\n",
      "Epoch 66/100\n",
      "3194/3194 [==============================] - 18s 6ms/step - loss: 2.8647e-05\n",
      "Epoch 67/100\n",
      "3194/3194 [==============================] - 19s 6ms/step - loss: 2.8614e-05\n",
      "Epoch 68/100\n",
      "3194/3194 [==============================] - 19s 6ms/step - loss: 2.8716e-05\n",
      "Epoch 69/100\n",
      "3194/3194 [==============================] - 19s 6ms/step - loss: 2.8659e-05\n",
      "Epoch 70/100\n",
      "3194/3194 [==============================] - 19s 6ms/step - loss: 2.9121e-05\n",
      "Epoch 71/100\n",
      "3194/3194 [==============================] - 18s 6ms/step - loss: 2.8708e-05\n",
      "Epoch 72/100\n",
      "3194/3194 [==============================] - 19s 6ms/step - loss: 2.6597e-05\n",
      "Epoch 73/100\n",
      "3194/3194 [==============================] - 19s 6ms/step - loss: 2.7563e-05\n",
      "Epoch 74/100\n",
      "3194/3194 [==============================] - 19s 6ms/step - loss: 2.8791e-05\n",
      "Epoch 75/100\n",
      "3194/3194 [==============================] - 19s 6ms/step - loss: 2.7415e-05\n",
      "Epoch 76/100\n",
      "3194/3194 [==============================] - 19s 6ms/step - loss: 2.6648e-05\n",
      "Epoch 77/100\n",
      "3194/3194 [==============================] - 19s 6ms/step - loss: 2.7582e-05\n",
      "Epoch 78/100\n",
      "3194/3194 [==============================] - 19s 6ms/step - loss: 2.6756e-05\n",
      "Epoch 79/100\n",
      "3194/3194 [==============================] - 19s 6ms/step - loss: 2.6951e-05\n",
      "Epoch 80/100\n",
      "3194/3194 [==============================] - 19s 6ms/step - loss: 2.6730e-05\n",
      "Epoch 81/100\n",
      "3194/3194 [==============================] - 19s 6ms/step - loss: 2.7912e-05\n",
      "Epoch 82/100\n",
      "3194/3194 [==============================] - 19s 6ms/step - loss: 2.7880e-05\n",
      "Epoch 83/100\n",
      "3194/3194 [==============================] - 19s 6ms/step - loss: 2.7449e-05\n",
      "Epoch 84/100\n",
      "3194/3194 [==============================] - 19s 6ms/step - loss: 2.7045e-05\n",
      "Epoch 85/100\n",
      "3194/3194 [==============================] - 18s 6ms/step - loss: 2.6511e-05\n",
      "Epoch 86/100\n",
      "3194/3194 [==============================] - 19s 6ms/step - loss: 2.5915e-05\n",
      "Epoch 87/100\n",
      "3194/3194 [==============================] - 19s 6ms/step - loss: 2.7996e-05\n",
      "Epoch 88/100\n",
      "3194/3194 [==============================] - 19s 6ms/step - loss: 2.6626e-05\n",
      "Epoch 89/100\n",
      "3194/3194 [==============================] - 19s 6ms/step - loss: 2.7811e-05\n",
      "Epoch 90/100\n",
      "3194/3194 [==============================] - 19s 6ms/step - loss: 2.7674e-05\n",
      "Epoch 91/100\n",
      "3194/3194 [==============================] - 18s 6ms/step - loss: 2.6892e-05\n",
      "Epoch 92/100\n",
      "3194/3194 [==============================] - 19s 6ms/step - loss: 2.8143e-05\n",
      "Epoch 93/100\n",
      "3194/3194 [==============================] - 19s 6ms/step - loss: 2.6024e-05\n",
      "Epoch 94/100\n",
      "3194/3194 [==============================] - 19s 6ms/step - loss: 2.8237e-05\n",
      "Epoch 95/100\n",
      "3194/3194 [==============================] - 19s 6ms/step - loss: 2.6537e-05\n",
      "Epoch 96/100\n",
      "3194/3194 [==============================] - 19s 6ms/step - loss: 2.7110e-05\n",
      "Epoch 97/100\n",
      "3194/3194 [==============================] - 18s 6ms/step - loss: 2.6806e-05\n",
      "Epoch 98/100\n",
      "3194/3194 [==============================] - 18s 6ms/step - loss: 2.7107e-05\n",
      "Epoch 99/100\n",
      "3194/3194 [==============================] - 18s 6ms/step - loss: 2.6131e-05\n",
      "Epoch 100/100\n",
      "3194/3194 [==============================] - 19s 6ms/step - loss: 2.6770e-05\n"
     ]
    },
    {
     "data": {
      "text/plain": [
       "<tensorflow.python.keras.callbacks.History at 0x7fd02610cba8>"
      ]
     },
     "execution_count": 50,
     "metadata": {
      "tags": []
     },
     "output_type": "execute_result"
    }
   ],
   "source": [
    "model_bbca.fit(x_train_bbca, y_train_bbca, batch_size=1, epochs=100)"
   ]
  },
  {
   "cell_type": "markdown",
   "metadata": {
    "id": "htzi8h9S2ILy"
   },
   "source": [
    "## **BNGA**"
   ]
  },
  {
   "cell_type": "code",
   "execution_count": 51,
   "metadata": {
    "id": "gpl2v1Hp2Ne1"
   },
   "outputs": [],
   "source": [
    "#Build Architecture for Neural Network\n",
    "model_bnga = Sequential()\n",
    "model_bnga.add(LSTM(50, return_sequences=True,\n",
    "               input_shape=(x_train_bnga.shape[1], 1)))\n",
    "model_bnga.add(LSTM(50, return_sequences=False))\n",
    "model_bnga.add(Dense(25))\n",
    "model_bnga.add(Dense(1))"
   ]
  },
  {
   "cell_type": "code",
   "execution_count": 52,
   "metadata": {
    "id": "TNKyk3H62RCg"
   },
   "outputs": [],
   "source": [
    "#Compile the architecture\n",
    "model_bnga.compile(optimizer='adam', loss='mean_squared_error')"
   ]
  },
  {
   "cell_type": "code",
   "execution_count": 53,
   "metadata": {
    "colab": {
     "base_uri": "https://localhost:8080/",
     "height": 1000
    },
    "id": "6gQ9Khbo2TA4",
    "outputId": "45af5fc7-cb73-4a84-a911-0ec5eaddfcec"
   },
   "outputs": [
    {
     "name": "stdout",
     "output_type": "stream",
     "text": [
      "Epoch 1/100\n",
      "3248/3248 [==============================] - 19s 6ms/step - loss: 0.0011\n",
      "Epoch 2/100\n",
      "3248/3248 [==============================] - 19s 6ms/step - loss: 4.0982e-04\n",
      "Epoch 3/100\n",
      "3248/3248 [==============================] - 19s 6ms/step - loss: 3.8604e-04\n",
      "Epoch 4/100\n",
      "3248/3248 [==============================] - 19s 6ms/step - loss: 2.6918e-04\n",
      "Epoch 5/100\n",
      "3248/3248 [==============================] - 19s 6ms/step - loss: 2.6142e-04\n",
      "Epoch 6/100\n",
      "3248/3248 [==============================] - 19s 6ms/step - loss: 2.3889e-04\n",
      "Epoch 7/100\n",
      "3248/3248 [==============================] - 19s 6ms/step - loss: 2.3135e-04\n",
      "Epoch 8/100\n",
      "3248/3248 [==============================] - 19s 6ms/step - loss: 2.3743e-04\n",
      "Epoch 9/100\n",
      "3248/3248 [==============================] - 19s 6ms/step - loss: 2.1954e-04\n",
      "Epoch 10/100\n",
      "3248/3248 [==============================] - 19s 6ms/step - loss: 2.3486e-04\n",
      "Epoch 11/100\n",
      "3248/3248 [==============================] - 19s 6ms/step - loss: 2.1209e-04\n",
      "Epoch 12/100\n",
      "3248/3248 [==============================] - 19s 6ms/step - loss: 2.1047e-04\n",
      "Epoch 13/100\n",
      "3248/3248 [==============================] - 19s 6ms/step - loss: 1.9349e-04\n",
      "Epoch 14/100\n",
      "3248/3248 [==============================] - 19s 6ms/step - loss: 2.0886e-04\n",
      "Epoch 15/100\n",
      "3248/3248 [==============================] - 19s 6ms/step - loss: 2.0072e-04\n",
      "Epoch 16/100\n",
      "3248/3248 [==============================] - 19s 6ms/step - loss: 1.9781e-04\n",
      "Epoch 17/100\n",
      "3248/3248 [==============================] - 19s 6ms/step - loss: 1.9353e-04\n",
      "Epoch 18/100\n",
      "3248/3248 [==============================] - 19s 6ms/step - loss: 2.0016e-04\n",
      "Epoch 19/100\n",
      "3248/3248 [==============================] - 18s 6ms/step - loss: 1.9523e-04\n",
      "Epoch 20/100\n",
      "3248/3248 [==============================] - 19s 6ms/step - loss: 1.8299e-04\n",
      "Epoch 21/100\n",
      "3248/3248 [==============================] - 19s 6ms/step - loss: 1.9318e-04\n",
      "Epoch 22/100\n",
      "3248/3248 [==============================] - 19s 6ms/step - loss: 1.8050e-04\n",
      "Epoch 23/100\n",
      "3248/3248 [==============================] - 19s 6ms/step - loss: 1.8570e-04\n",
      "Epoch 24/100\n",
      "3248/3248 [==============================] - 19s 6ms/step - loss: 1.8791e-04\n",
      "Epoch 25/100\n",
      "3248/3248 [==============================] - 19s 6ms/step - loss: 1.8016e-04\n",
      "Epoch 26/100\n",
      "3248/3248 [==============================] - 19s 6ms/step - loss: 1.9117e-04\n",
      "Epoch 27/100\n",
      "3248/3248 [==============================] - 19s 6ms/step - loss: 1.9441e-04\n",
      "Epoch 28/100\n",
      "3248/3248 [==============================] - 19s 6ms/step - loss: 1.6427e-04\n",
      "Epoch 29/100\n",
      "3248/3248 [==============================] - 19s 6ms/step - loss: 1.7982e-04\n",
      "Epoch 30/100\n",
      "3248/3248 [==============================] - 19s 6ms/step - loss: 1.7508e-04\n",
      "Epoch 31/100\n",
      "3248/3248 [==============================] - 19s 6ms/step - loss: 1.7999e-04\n",
      "Epoch 32/100\n",
      "3248/3248 [==============================] - 19s 6ms/step - loss: 1.8055e-04\n",
      "Epoch 33/100\n",
      "3248/3248 [==============================] - 19s 6ms/step - loss: 1.7689e-04\n",
      "Epoch 34/100\n",
      "3248/3248 [==============================] - 19s 6ms/step - loss: 1.7384e-04\n",
      "Epoch 35/100\n",
      "3248/3248 [==============================] - 19s 6ms/step - loss: 1.6950e-04\n",
      "Epoch 36/100\n",
      "3248/3248 [==============================] - 19s 6ms/step - loss: 1.7429e-04\n",
      "Epoch 37/100\n",
      "3248/3248 [==============================] - 19s 6ms/step - loss: 1.6473e-04\n",
      "Epoch 38/100\n",
      "3248/3248 [==============================] - 19s 6ms/step - loss: 1.7735e-04\n",
      "Epoch 39/100\n",
      "3248/3248 [==============================] - 19s 6ms/step - loss: 1.7116e-04\n",
      "Epoch 40/100\n",
      "3248/3248 [==============================] - 19s 6ms/step - loss: 1.6790e-04\n",
      "Epoch 41/100\n",
      "3248/3248 [==============================] - 19s 6ms/step - loss: 1.6796e-04\n",
      "Epoch 42/100\n",
      "3248/3248 [==============================] - 19s 6ms/step - loss: 1.6243e-04\n",
      "Epoch 43/100\n",
      "3248/3248 [==============================] - 18s 6ms/step - loss: 1.6387e-04\n",
      "Epoch 44/100\n",
      "3248/3248 [==============================] - 19s 6ms/step - loss: 1.6959e-04\n",
      "Epoch 45/100\n",
      "3248/3248 [==============================] - 19s 6ms/step - loss: 1.6360e-04\n",
      "Epoch 46/100\n",
      "3248/3248 [==============================] - 19s 6ms/step - loss: 1.6032e-04\n",
      "Epoch 47/100\n",
      "3248/3248 [==============================] - 19s 6ms/step - loss: 1.6552e-04\n",
      "Epoch 48/100\n",
      "3248/3248 [==============================] - 19s 6ms/step - loss: 1.6132e-04\n",
      "Epoch 49/100\n",
      "3248/3248 [==============================] - 19s 6ms/step - loss: 1.6026e-04\n",
      "Epoch 50/100\n",
      "3248/3248 [==============================] - 19s 6ms/step - loss: 1.5802e-04\n",
      "Epoch 51/100\n",
      "3248/3248 [==============================] - 19s 6ms/step - loss: 1.5962e-04\n",
      "Epoch 52/100\n",
      "3248/3248 [==============================] - 19s 6ms/step - loss: 1.5845e-04\n",
      "Epoch 53/100\n",
      "3248/3248 [==============================] - 19s 6ms/step - loss: 1.6178e-04\n",
      "Epoch 54/100\n",
      "3248/3248 [==============================] - 19s 6ms/step - loss: 1.5863e-04\n",
      "Epoch 55/100\n",
      "3248/3248 [==============================] - 19s 6ms/step - loss: 1.5603e-04\n",
      "Epoch 56/100\n",
      "3248/3248 [==============================] - 19s 6ms/step - loss: 1.5218e-04\n",
      "Epoch 57/100\n",
      "3248/3248 [==============================] - 19s 6ms/step - loss: 1.5752e-04\n",
      "Epoch 58/100\n",
      "3248/3248 [==============================] - 19s 6ms/step - loss: 1.5938e-04\n",
      "Epoch 59/100\n",
      "3248/3248 [==============================] - 19s 6ms/step - loss: 1.6727e-04\n",
      "Epoch 60/100\n",
      "3248/3248 [==============================] - 19s 6ms/step - loss: 1.6299e-04\n",
      "Epoch 61/100\n",
      "3248/3248 [==============================] - 19s 6ms/step - loss: 1.4839e-04\n",
      "Epoch 62/100\n",
      "3248/3248 [==============================] - 19s 6ms/step - loss: 1.6382e-04\n",
      "Epoch 63/100\n",
      "3248/3248 [==============================] - 19s 6ms/step - loss: 1.4938e-04\n",
      "Epoch 64/100\n",
      "3248/3248 [==============================] - 19s 6ms/step - loss: 1.5911e-04\n",
      "Epoch 65/100\n",
      "3248/3248 [==============================] - 19s 6ms/step - loss: 1.4837e-04\n",
      "Epoch 66/100\n",
      "3248/3248 [==============================] - 19s 6ms/step - loss: 1.6084e-04\n",
      "Epoch 67/100\n",
      "3248/3248 [==============================] - 19s 6ms/step - loss: 1.5445e-04\n",
      "Epoch 68/100\n",
      "3248/3248 [==============================] - 19s 6ms/step - loss: 1.6015e-04\n",
      "Epoch 69/100\n",
      "3248/3248 [==============================] - 19s 6ms/step - loss: 1.5566e-04\n",
      "Epoch 70/100\n",
      "3248/3248 [==============================] - 19s 6ms/step - loss: 1.4551e-04\n",
      "Epoch 71/100\n",
      "3248/3248 [==============================] - 19s 6ms/step - loss: 1.5813e-04\n",
      "Epoch 72/100\n",
      "3248/3248 [==============================] - 19s 6ms/step - loss: 1.4939e-04\n",
      "Epoch 73/100\n",
      "3248/3248 [==============================] - 19s 6ms/step - loss: 1.6022e-04\n",
      "Epoch 74/100\n",
      "3248/3248 [==============================] - 19s 6ms/step - loss: 1.5896e-04\n",
      "Epoch 75/100\n",
      "3248/3248 [==============================] - 19s 6ms/step - loss: 1.5024e-04\n",
      "Epoch 76/100\n",
      "3248/3248 [==============================] - 19s 6ms/step - loss: 1.5611e-04\n",
      "Epoch 77/100\n",
      "3248/3248 [==============================] - 19s 6ms/step - loss: 1.4997e-04\n",
      "Epoch 78/100\n",
      "3248/3248 [==============================] - 19s 6ms/step - loss: 1.5075e-04\n",
      "Epoch 79/100\n",
      "3248/3248 [==============================] - 19s 6ms/step - loss: 1.5123e-04\n",
      "Epoch 80/100\n",
      "3248/3248 [==============================] - 19s 6ms/step - loss: 1.4571e-04\n",
      "Epoch 81/100\n",
      "3248/3248 [==============================] - 19s 6ms/step - loss: 1.4609e-04\n",
      "Epoch 82/100\n",
      "3248/3248 [==============================] - 19s 6ms/step - loss: 1.4777e-04\n",
      "Epoch 83/100\n",
      "3248/3248 [==============================] - 19s 6ms/step - loss: 1.4657e-04\n",
      "Epoch 84/100\n",
      "3248/3248 [==============================] - 19s 6ms/step - loss: 1.5450e-04\n",
      "Epoch 85/100\n",
      "3248/3248 [==============================] - 19s 6ms/step - loss: 1.4795e-04\n",
      "Epoch 86/100\n",
      "3248/3248 [==============================] - 19s 6ms/step - loss: 1.4908e-04\n",
      "Epoch 87/100\n",
      "3248/3248 [==============================] - 19s 6ms/step - loss: 1.5714e-04\n",
      "Epoch 88/100\n",
      "3248/3248 [==============================] - 19s 6ms/step - loss: 1.4078e-04\n",
      "Epoch 89/100\n",
      "3248/3248 [==============================] - 19s 6ms/step - loss: 1.4554e-04\n",
      "Epoch 90/100\n",
      "3248/3248 [==============================] - 19s 6ms/step - loss: 1.4076e-04\n",
      "Epoch 91/100\n",
      "3248/3248 [==============================] - 18s 6ms/step - loss: 1.4984e-04\n",
      "Epoch 92/100\n",
      "3248/3248 [==============================] - 19s 6ms/step - loss: 1.4365e-04\n",
      "Epoch 93/100\n",
      "3248/3248 [==============================] - 19s 6ms/step - loss: 1.4772e-04\n",
      "Epoch 94/100\n",
      "3248/3248 [==============================] - 19s 6ms/step - loss: 1.4808e-04\n",
      "Epoch 95/100\n",
      "3248/3248 [==============================] - 18s 6ms/step - loss: 1.4856e-04\n",
      "Epoch 96/100\n",
      "3248/3248 [==============================] - 18s 6ms/step - loss: 1.4535e-04\n",
      "Epoch 97/100\n",
      "3248/3248 [==============================] - 18s 6ms/step - loss: 1.3878e-04\n",
      "Epoch 98/100\n",
      "3248/3248 [==============================] - 18s 6ms/step - loss: 1.4659e-04\n",
      "Epoch 99/100\n",
      "3248/3248 [==============================] - 19s 6ms/step - loss: 1.4903e-04\n",
      "Epoch 100/100\n",
      "3248/3248 [==============================] - 18s 6ms/step - loss: 1.4207e-04\n"
     ]
    },
    {
     "data": {
      "text/plain": [
       "<tensorflow.python.keras.callbacks.History at 0x7fd01c165e10>"
      ]
     },
     "execution_count": 53,
     "metadata": {
      "tags": []
     },
     "output_type": "execute_result"
    }
   ],
   "source": [
    "model_bnga.fit(x_train_bnga, y_train_bnga, batch_size=1, epochs=100)"
   ]
  },
  {
   "cell_type": "markdown",
   "metadata": {
    "id": "hs0I8zeU_Vrb"
   },
   "source": [
    "# **Data Evaluation**"
   ]
  },
  {
   "cell_type": "markdown",
   "metadata": {
    "id": "Fg3PB3Vn_n5V"
   },
   "source": [
    "## **BBRI**"
   ]
  },
  {
   "cell_type": "code",
   "execution_count": 54,
   "metadata": {
    "id": "0FXtZGOI_HX5"
   },
   "outputs": [],
   "source": [
    "test_bbri = bbri_close_scaled[train_bbri_close_len-60:, :]"
   ]
  },
  {
   "cell_type": "code",
   "execution_count": 55,
   "metadata": {
    "id": "GYAXeXzpALxF"
   },
   "outputs": [],
   "source": [
    "x_test_bbri = []\n",
    "y_test_bbri = bbri_close.values[train_bbri_close_len:, :] #actual values diambil dari dataset\n",
    "\n",
    "for i in range(60, len(test_bbri)):\n",
    "  x_test_bbri.append(test_bbri[i-60:i, 0])"
   ]
  },
  {
   "cell_type": "code",
   "execution_count": 56,
   "metadata": {
    "id": "k60ioTCLBQ6x"
   },
   "outputs": [],
   "source": [
    "#ubah x_test menjadi numpy array\n",
    "x_test_bbri = np.array(x_test_bbri)"
   ]
  },
  {
   "cell_type": "code",
   "execution_count": 57,
   "metadata": {
    "id": "CqRYf6qgBTZT"
   },
   "outputs": [],
   "source": [
    "#mengubah x test menjadi 3 dimensi\n",
    "x_test_bbri = np.reshape(x_test_bbri,\n",
    "                    (x_test_bbri.shape[0],\n",
    "                     x_test_bbri.shape[1],\n",
    "                     1))"
   ]
  },
  {
   "cell_type": "code",
   "execution_count": 58,
   "metadata": {
    "id": "eLC-52_lBh9G"
   },
   "outputs": [],
   "source": [
    "prediction_bbri = model_bbri.predict(x_test_bbri)\n",
    "\n",
    "# mengembalikan lagi ke angka awal (tidak di scaling)\n",
    "prediction_bbri = scaler.inverse_transform(prediction_bbri)"
   ]
  },
  {
   "cell_type": "code",
   "execution_count": 66,
   "metadata": {
    "colab": {
     "base_uri": "https://localhost:8080/",
     "height": 34
    },
    "id": "TzOPqddjBuyn",
    "outputId": "369e8624-f81c-4e09-fe61-ee0a5554ad17"
   },
   "outputs": [
    {
     "name": "stdout",
     "output_type": "stream",
     "text": [
      "1657.835371630451\n"
     ]
    }
   ],
   "source": [
    "rmse_bbri = np.sqrt(np.mean(prediction_bbri - y_test_bbri)**2)\n",
    "print(rmse_bbri)"
   ]
  },
  {
   "cell_type": "markdown",
   "metadata": {
    "id": "SwHuICxrGJEG"
   },
   "source": [
    "## **BBNI**"
   ]
  },
  {
   "cell_type": "code",
   "execution_count": 60,
   "metadata": {
    "id": "n821y03sGZ4P"
   },
   "outputs": [],
   "source": [
    "test_bbni = bbni_close_scaled[train_bbni_close_len-60:, :]"
   ]
  },
  {
   "cell_type": "code",
   "execution_count": 61,
   "metadata": {
    "id": "e5JtdtSHGk_m"
   },
   "outputs": [],
   "source": [
    "x_test_bbni = []\n",
    "y_test_bbni = bbni_close.values[train_bbni_close_len:, :] #actual values diambil dari dataset\n",
    "\n",
    "for i in range(60, len(test_bbni)):\n",
    "  x_test_bbni.append(test_bbni[i-60:i, 0])"
   ]
  },
  {
   "cell_type": "code",
   "execution_count": 62,
   "metadata": {
    "id": "5Ekg0F__GyL5"
   },
   "outputs": [],
   "source": [
    "#ubah x_test menjadi numpy array\n",
    "x_test_bbni = np.array(x_test_bbni)"
   ]
  },
  {
   "cell_type": "code",
   "execution_count": 63,
   "metadata": {
    "id": "tqhcE3saGyEy"
   },
   "outputs": [],
   "source": [
    "#mengubah x test menjadi 3 dimensi\n",
    "x_test_bbni = np.reshape(x_test_bbni,\n",
    "                    (x_test_bbni.shape[0],\n",
    "                     x_test_bbni.shape[1],\n",
    "                     1))"
   ]
  },
  {
   "cell_type": "code",
   "execution_count": 64,
   "metadata": {
    "id": "ffLxzjhJG0GV"
   },
   "outputs": [],
   "source": [
    "prediction_bbni = model_bbni.predict(x_test_bbni)\n",
    "\n",
    "# mengembalikan lagi ke angka awal (tidak di scaling)\n",
    "prediction_bbni = scaler.inverse_transform(prediction_bbni)"
   ]
  },
  {
   "cell_type": "code",
   "execution_count": 65,
   "metadata": {
    "colab": {
     "base_uri": "https://localhost:8080/",
     "height": 34
    },
    "id": "Psn54JNXGz2b",
    "outputId": "4ddf0343-1aa9-463c-8614-e39d193a410b"
   },
   "outputs": [
    {
     "name": "stdout",
     "output_type": "stream",
     "text": [
      "5574.858091645866\n"
     ]
    }
   ],
   "source": [
    "rmse_bbni = np.sqrt(np.mean(prediction_bbni - y_test_bbni)**2)\n",
    "print(rmse_bbni)"
   ]
  },
  {
   "cell_type": "markdown",
   "metadata": {
    "id": "w5RoWrGQGPAs"
   },
   "source": [
    "## **BMRI**"
   ]
  },
  {
   "cell_type": "code",
   "execution_count": 69,
   "metadata": {
    "id": "OS5-kebTG1ko"
   },
   "outputs": [],
   "source": [
    "test_bmri = bmri_close_scaled[train_bmri_close_len-60:, :]"
   ]
  },
  {
   "cell_type": "code",
   "execution_count": 70,
   "metadata": {
    "id": "khOvqRWsG2aJ"
   },
   "outputs": [],
   "source": [
    "x_test_bmri = []\n",
    "y_test_bmri = bmri_close.values[train_bmri_close_len:, :] #actual values diambil dari dataset\n",
    "\n",
    "for i in range(60, len(test_bmri)):\n",
    "  x_test_bmri.append(test_bmri[i-60:i, 0])"
   ]
  },
  {
   "cell_type": "code",
   "execution_count": 71,
   "metadata": {
    "id": "HY7angqvG28d"
   },
   "outputs": [],
   "source": [
    "#ubah x_test menjadi numpy array\n",
    "x_test_bmri = np.array(x_test_bmri)"
   ]
  },
  {
   "cell_type": "code",
   "execution_count": 72,
   "metadata": {
    "id": "Lir-PgGTG2wh"
   },
   "outputs": [],
   "source": [
    "#mengubah x test menjadi 3 dimensi\n",
    "x_test_bmri = np.reshape(x_test_bmri,\n",
    "                    (x_test_bmri.shape[0],\n",
    "                     x_test_bmri.shape[1],\n",
    "                     1))"
   ]
  },
  {
   "cell_type": "code",
   "execution_count": 73,
   "metadata": {
    "id": "n1vn6HLVG12o"
   },
   "outputs": [],
   "source": [
    "prediction_bmri = model_bmri.predict(x_test_bmri)\n",
    "\n",
    "# mengembalikan lagi ke angka awal (tidak di scaling)\n",
    "prediction_bmri = scaler.inverse_transform(prediction_bmri)"
   ]
  },
  {
   "cell_type": "code",
   "execution_count": 74,
   "metadata": {
    "colab": {
     "base_uri": "https://localhost:8080/",
     "height": 34
    },
    "id": "lTZSLQoeG1S2",
    "outputId": "c6176d4d-4508-4af0-a74c-956cdeba0974"
   },
   "outputs": [
    {
     "name": "stdout",
     "output_type": "stream",
     "text": [
      "4952.553172804781\n"
     ]
    }
   ],
   "source": [
    "rmse_bmri = np.sqrt(np.mean(prediction_bmri - y_test_bmri)**2)\n",
    "print(rmse_bmri)"
   ]
  },
  {
   "cell_type": "markdown",
   "metadata": {
    "id": "OmauH4KYGRuK"
   },
   "source": [
    "## **BBCA**"
   ]
  },
  {
   "cell_type": "code",
   "execution_count": 75,
   "metadata": {
    "id": "tHgMKRr8G4me"
   },
   "outputs": [],
   "source": [
    "test_bbca = bbca_close_scaled[train_bbca_close_len-60:, :]"
   ]
  },
  {
   "cell_type": "code",
   "execution_count": 76,
   "metadata": {
    "id": "l0kLQyvPG5VN"
   },
   "outputs": [],
   "source": [
    "x_test_bbca = []\n",
    "y_test_bbca = bbca_close.values[train_bbca_close_len:, :] #actual values diambil dari dataset\n",
    "\n",
    "for i in range(60, len(test_bbca)):\n",
    "  x_test_bbca.append(test_bbca[i-60:i, 0])"
   ]
  },
  {
   "cell_type": "code",
   "execution_count": 77,
   "metadata": {
    "id": "pROoQK42G5_l"
   },
   "outputs": [],
   "source": [
    "#ubah x_test menjadi numpy array\n",
    "x_test_bbca = np.array(x_test_bbca)"
   ]
  },
  {
   "cell_type": "code",
   "execution_count": 78,
   "metadata": {
    "id": "Dtvk8tYOG5oR"
   },
   "outputs": [],
   "source": [
    "#mengubah x test menjadi 3 dimensi\n",
    "x_test_bbca = np.reshape(x_test_bbca,\n",
    "                    (x_test_bbca.shape[0],\n",
    "                     x_test_bbca.shape[1],\n",
    "                     1))"
   ]
  },
  {
   "cell_type": "code",
   "execution_count": 81,
   "metadata": {
    "id": "FcoK31fpG424"
   },
   "outputs": [],
   "source": [
    "prediction_bbca = model_bbca.predict(x_test_bbca)\n",
    "\n",
    "# mengembalikan lagi ke angka awal (tidak di scaling)\n",
    "prediction_bbca = scaler.inverse_transform(prediction_bbca)"
   ]
  },
  {
   "cell_type": "code",
   "execution_count": 82,
   "metadata": {
    "colab": {
     "base_uri": "https://localhost:8080/",
     "height": 34
    },
    "id": "yMeTgjA2G4bF",
    "outputId": "d83ad1c6-0ef1-4692-df67-392e24ead075"
   },
   "outputs": [
    {
     "name": "stdout",
     "output_type": "stream",
     "text": [
      "24474.337292585573\n"
     ]
    }
   ],
   "source": [
    "rmse_bbca = np.sqrt(np.mean(prediction_bbca - y_test_bbca)**2)\n",
    "print(rmse_bbca)"
   ]
  },
  {
   "cell_type": "markdown",
   "metadata": {
    "id": "YeTN2UOkGT0s"
   },
   "source": [
    "## **BNGA**"
   ]
  },
  {
   "cell_type": "code",
   "execution_count": 83,
   "metadata": {
    "id": "UsjnCxcgG7cT"
   },
   "outputs": [],
   "source": [
    "test_bnga = bnga_close_scaled[train_bnga_close_len-60:, :]"
   ]
  },
  {
   "cell_type": "code",
   "execution_count": 84,
   "metadata": {
    "id": "W4gXfh4wG7_n"
   },
   "outputs": [],
   "source": [
    "x_test_bnga = []\n",
    "y_test_bnga = bnga_close.values[train_bnga_close_len:, :] #actual values diambil dari dataset\n",
    "\n",
    "for i in range(60, len(test_bnga)):\n",
    "  x_test_bnga.append(test_bnga[i-60:i, 0])"
   ]
  },
  {
   "cell_type": "code",
   "execution_count": 85,
   "metadata": {
    "id": "yzyOO6BaG8kM"
   },
   "outputs": [],
   "source": [
    "#ubah x_test menjadi numpy array\n",
    "x_test_bnga = np.array(x_test_bnga)"
   ]
  },
  {
   "cell_type": "code",
   "execution_count": 86,
   "metadata": {
    "id": "JyZACTV7G8OD"
   },
   "outputs": [],
   "source": [
    "#mengubah x test menjadi 3 dimensi\n",
    "x_test_bnga = np.reshape(x_test_bnga,\n",
    "                    (x_test_bnga.shape[0],\n",
    "                     x_test_bnga.shape[1],\n",
    "                     1))"
   ]
  },
  {
   "cell_type": "code",
   "execution_count": 87,
   "metadata": {
    "id": "8x8F6RJlG7sa"
   },
   "outputs": [],
   "source": [
    "prediction_bnga = model_bnga.predict(x_test_bnga)\n",
    "\n",
    "# mengembalikan lagi ke angka awal (tidak di scaling)\n",
    "prediction_bnga = scaler.inverse_transform(prediction_bnga)"
   ]
  },
  {
   "cell_type": "code",
   "execution_count": 88,
   "metadata": {
    "colab": {
     "base_uri": "https://localhost:8080/",
     "height": 34
    },
    "id": "JY78J-gMG7D3",
    "outputId": "0080a658-829a-4ba2-82ad-3df05f3192bf"
   },
   "outputs": [
    {
     "name": "stdout",
     "output_type": "stream",
     "text": [
      "6.970340530413958\n"
     ]
    }
   ],
   "source": [
    "rmse_bnga = np.sqrt(np.mean(prediction_bnga - y_test_bnga)**2)\n",
    "print(rmse_bnga)"
   ]
  },
  {
   "cell_type": "markdown",
   "metadata": {
    "id": "y7At3YTTFk26"
   },
   "source": [
    "## **Best Model**"
   ]
  },
  {
   "cell_type": "code",
   "execution_count": 89,
   "metadata": {
    "colab": {
     "base_uri": "https://localhost:8080/",
     "height": 235
    },
    "id": "u9APB1b7El7J",
    "outputId": "6e106945-c0a9-461c-e7e5-cf3b1b799a3a"
   },
   "outputs": [
    {
     "data": {
      "text/html": [
       "<div>\n",
       "<style scoped>\n",
       "    .dataframe tbody tr th:only-of-type {\n",
       "        vertical-align: middle;\n",
       "    }\n",
       "\n",
       "    .dataframe tbody tr th {\n",
       "        vertical-align: top;\n",
       "    }\n",
       "\n",
       "    .dataframe thead th {\n",
       "        text-align: right;\n",
       "    }\n",
       "</style>\n",
       "<table border=\"1\" class=\"dataframe\">\n",
       "  <thead>\n",
       "    <tr style=\"text-align: right;\">\n",
       "      <th></th>\n",
       "      <th>Bank Model</th>\n",
       "    </tr>\n",
       "    <tr>\n",
       "      <th>RMSE</th>\n",
       "      <th></th>\n",
       "    </tr>\n",
       "  </thead>\n",
       "  <tbody>\n",
       "    <tr>\n",
       "      <th>24474.337293</th>\n",
       "      <td>BBCA</td>\n",
       "    </tr>\n",
       "    <tr>\n",
       "      <th>5574.858092</th>\n",
       "      <td>BBNI</td>\n",
       "    </tr>\n",
       "    <tr>\n",
       "      <th>4952.553173</th>\n",
       "      <td>BMRI</td>\n",
       "    </tr>\n",
       "    <tr>\n",
       "      <th>1657.835372</th>\n",
       "      <td>BBRI</td>\n",
       "    </tr>\n",
       "    <tr>\n",
       "      <th>6.970341</th>\n",
       "      <td>BNGA</td>\n",
       "    </tr>\n",
       "  </tbody>\n",
       "</table>\n",
       "</div>"
      ],
      "text/plain": [
       "             Bank Model\n",
       "RMSE                   \n",
       "24474.337293       BBCA\n",
       "5574.858092        BBNI\n",
       "4952.553173        BMRI\n",
       "1657.835372        BBRI\n",
       "6.970341           BNGA"
      ]
     },
     "execution_count": 89,
     "metadata": {
      "tags": []
     },
     "output_type": "execute_result"
    }
   ],
   "source": [
    "results = pd.DataFrame({\n",
    "    'Bank Model': ['BBRI', 'BBNI', 'BMRI', 'BBCA', 'BNGA'],\n",
    "    'RMSE': [rmse_bbri, rmse_bbni, rmse_bmri, rmse_bbca, rmse_bnga]})\n",
    "result_df = results.sort_values(by='RMSE', ascending=False)\n",
    "result_df = result_df.set_index('RMSE')\n",
    "result_df"
   ]
  },
  {
   "cell_type": "markdown",
   "metadata": {
    "id": "HvMkGGqSGYIF"
   },
   "source": [
    "# **Data Prediction**"
   ]
  },
  {
   "cell_type": "markdown",
   "metadata": {
    "id": "InQnSsQ9Ao7Y"
   },
   "source": [
    "## **BBRI**"
   ]
  },
  {
   "cell_type": "code",
   "execution_count": 90,
   "metadata": {
    "colab": {
     "base_uri": "https://localhost:8080/",
     "height": 139
    },
    "id": "z4HFcg3TFrJb",
    "outputId": "8b1a7f3d-db4d-4370-e522-5696b0d93a30"
   },
   "outputs": [
    {
     "name": "stderr",
     "output_type": "stream",
     "text": [
      "/usr/local/lib/python3.6/dist-packages/ipykernel_launcher.py:4: SettingWithCopyWarning: \n",
      "A value is trying to be set on a copy of a slice from a DataFrame.\n",
      "Try using .loc[row_indexer,col_indexer] = value instead\n",
      "\n",
      "See the caveats in the documentation: https://pandas.pydata.org/pandas-docs/stable/user_guide/indexing.html#returning-a-view-versus-a-copy\n",
      "  after removing the cwd from sys.path.\n"
     ]
    }
   ],
   "source": [
    "#creating dataframe\n",
    "datatrain_bbri = bbri_close[:train_bbri_close_len]\n",
    "datavalid_bbri = bbri_close[train_bbri_close_len:]\n",
    "datavalid_bbri['Predictions'] = prediction_bbri"
   ]
  },
  {
   "cell_type": "code",
   "execution_count": 91,
   "metadata": {
    "colab": {
     "base_uri": "https://localhost:8080/",
     "height": 760
    },
    "id": "m_RAdnBlGNbX",
    "outputId": "a3fa68c4-2d77-44d1-f272-05a563a8aa3f"
   },
   "outputs": [
    {
     "name": "stderr",
     "output_type": "stream",
     "text": [
      "/usr/local/lib/python3.6/dist-packages/ipykernel_launcher.py:7: MatplotlibDeprecationWarning: Unrecognized location 'lower_right'. Falling back on 'best'; valid locations are\n",
      "\tbest\n",
      "\tupper right\n",
      "\tupper left\n",
      "\tlower left\n",
      "\tlower right\n",
      "\tright\n",
      "\tcenter left\n",
      "\tcenter right\n",
      "\tlower center\n",
      "\tupper center\n",
      "\tcenter\n",
      "This will raise an exception in 3.3.\n",
      "  import sys\n"
     ]
    },
    {
     "data": {
      "image/png": "[encoded data removed]",
      "text/plain": [
       "<Figure size 1152x576 with 1 Axes>"
      ]
     },
     "metadata": {
      "needs_background": "light",
      "tags": []
     },
     "output_type": "display_data"
    }
   ],
   "source": [
    "plt.figure(figsize=(16,8))\n",
    "plt.title('Prediction Model of BBRI Stock Price', fontsize=25)\n",
    "plt.xlabel('Time',fontsize=18)\n",
    "plt.ylabel('Closing Price (IDR)', fontsize=18)\n",
    "plt.plot(datatrain_bbri['Close'])\n",
    "plt.plot(datavalid_bbri[['Close', 'Predictions']])\n",
    "plt.legend(['Train', 'Val', 'Predict'], loc='lower_right')\n",
    "plt.show()"
   ]
  },
  {
   "cell_type": "code",
   "execution_count": 92,
   "metadata": {
    "colab": {
     "base_uri": "https://localhost:8080/",
     "height": 34
    },
    "id": "3R_nQpcVH9pi",
    "outputId": "2200f6b5-4446-46fc-b8af-0ca7dd0d7569"
   },
   "outputs": [
    {
     "name": "stdout",
     "output_type": "stream",
     "text": [
      "[[2758.5525]]\n"
     ]
    }
   ],
   "source": [
    "bbri_quote = web.DataReader('BBRI.jk', data_source='yahoo',\n",
    "                            start='2020-01-01',\n",
    "                            end='2020-10-25')\n",
    "new_df_bbri = bbri_quote.filter(['Close'])\n",
    "bbri_last_60_days = new_df_bbri[-60:].values\n",
    "bbri_last_60_days_scaled = scaler.transform(bbri_last_60_days)\n",
    "bbri_x_test = []\n",
    "bbri_x_test.append(bbri_last_60_days_scaled)\n",
    "bbri_x_test = np.array(bbri_x_test)\n",
    "bbri_x_test = np.reshape(bbri_x_test,\n",
    "                    (bbri_x_test.shape[0],\n",
    "                   bbri_x_test.shape[1], 1))\n",
    "pred_price_bbri = model_bbri.predict(bbri_x_test)\n",
    "pred_price_bbri = scaler.inverse_transform(pred_price_bbri)\n",
    "print(pred_price_bbri)"
   ]
  },
  {
   "cell_type": "markdown",
   "metadata": {
    "id": "9m2I7VMYA12i"
   },
   "source": [
    "## **BBNI**"
   ]
  },
  {
   "cell_type": "code",
   "execution_count": 93,
   "metadata": {
    "colab": {
     "base_uri": "https://localhost:8080/",
     "height": 139
    },
    "id": "krV0D2j-KZHF",
    "outputId": "165da67f-5f22-45af-ef8d-c7e1519d0aa4"
   },
   "outputs": [
    {
     "name": "stderr",
     "output_type": "stream",
     "text": [
      "/usr/local/lib/python3.6/dist-packages/ipykernel_launcher.py:4: SettingWithCopyWarning: \n",
      "A value is trying to be set on a copy of a slice from a DataFrame.\n",
      "Try using .loc[row_indexer,col_indexer] = value instead\n",
      "\n",
      "See the caveats in the documentation: https://pandas.pydata.org/pandas-docs/stable/user_guide/indexing.html#returning-a-view-versus-a-copy\n",
      "  after removing the cwd from sys.path.\n"
     ]
    }
   ],
   "source": [
    "#creating dataframe\n",
    "datatrain_bbni = bbni_close[:train_bbni_close_len]\n",
    "datavalid_bbni = bbni_close[train_bbni_close_len:]\n",
    "datavalid_bbni['Predictions'] = prediction_bbni"
   ]
  },
  {
   "cell_type": "code",
   "execution_count": 94,
   "metadata": {
    "colab": {
     "base_uri": "https://localhost:8080/",
     "height": 757
    },
    "id": "Zzm95QoGKaew",
    "outputId": "4392c8eb-84d7-4bf7-ae3b-f976bc596bfd"
   },
   "outputs": [
    {
     "name": "stderr",
     "output_type": "stream",
     "text": [
      "/usr/local/lib/python3.6/dist-packages/ipykernel_launcher.py:7: MatplotlibDeprecationWarning: Unrecognized location 'lower_right'. Falling back on 'best'; valid locations are\n",
      "\tbest\n",
      "\tupper right\n",
      "\tupper left\n",
      "\tlower left\n",
      "\tlower right\n",
      "\tright\n",
      "\tcenter left\n",
      "\tcenter right\n",
      "\tlower center\n",
      "\tupper center\n",
      "\tcenter\n",
      "This will raise an exception in 3.3.\n",
      "  import sys\n"
     ]
    },
    {
     "data": {
      "image/png": "[encoded data removed]",
      "text/plain": [
       "<Figure size 1152x576 with 1 Axes>"
      ]
     },
     "metadata": {
      "needs_background": "light",
      "tags": []
     },
     "output_type": "display_data"
    }
   ],
   "source": [
    "plt.figure(figsize=(16,8))\n",
    "plt.title('Prediction Model of BBNI Stock Price', fontsize=25)\n",
    "plt.xlabel('Time',fontsize=18)\n",
    "plt.ylabel('Closing Price (IDR)', fontsize=18)\n",
    "plt.plot(datatrain_bbni['Close'])\n",
    "plt.plot(datavalid_bbni[['Close', 'Predictions']])\n",
    "plt.legend(['Train', 'Val', 'Predict'], loc='lower_right')\n",
    "plt.show()"
   ]
  },
  {
   "cell_type": "code",
   "execution_count": 95,
   "metadata": {
    "colab": {
     "base_uri": "https://localhost:8080/",
     "height": 34
    },
    "id": "3fJnDiPnKYxr",
    "outputId": "dd26d7eb-d47b-42ff-8aff-2a0d22e05e54"
   },
   "outputs": [
    {
     "name": "stdout",
     "output_type": "stream",
     "text": [
      "[[3408.3467]]\n"
     ]
    }
   ],
   "source": [
    "bbni_quote = web.DataReader('BBNI.jk', data_source='yahoo',\n",
    "                            start='2020-01-01',\n",
    "                            end='2020-10-25')\n",
    "new_df_bbni = bbni_quote.filter(['Close'])\n",
    "bbni_last_60_days = new_df_bbni[-60:].values\n",
    "bbni_last_60_days_scaled = scaler.transform(bbni_last_60_days)\n",
    "bbni_x_test = []\n",
    "bbni_x_test.append(bbni_last_60_days_scaled)\n",
    "bbni_x_test = np.array(bbni_x_test)\n",
    "bbni_x_test = np.reshape(bbni_x_test,\n",
    "                    (bbni_x_test.shape[0],\n",
    "                   bbni_x_test.shape[1], 1))\n",
    "pred_price_bbni = model_bbni.predict(bbni_x_test)\n",
    "pred_price_bbni = scaler.inverse_transform(pred_price_bbni)\n",
    "print(pred_price_bbni)"
   ]
  },
  {
   "cell_type": "markdown",
   "metadata": {
    "id": "PT-r2Mv1A4wT"
   },
   "source": [
    "## **BMRI**"
   ]
  },
  {
   "cell_type": "code",
   "execution_count": 96,
   "metadata": {
    "colab": {
     "base_uri": "https://localhost:8080/",
     "height": 139
    },
    "id": "qSYCFYmWNyQq",
    "outputId": "1c53aa3b-3219-4c0f-d319-6a804d7e1ab3"
   },
   "outputs": [
    {
     "name": "stderr",
     "output_type": "stream",
     "text": [
      "/usr/local/lib/python3.6/dist-packages/ipykernel_launcher.py:4: SettingWithCopyWarning: \n",
      "A value is trying to be set on a copy of a slice from a DataFrame.\n",
      "Try using .loc[row_indexer,col_indexer] = value instead\n",
      "\n",
      "See the caveats in the documentation: https://pandas.pydata.org/pandas-docs/stable/user_guide/indexing.html#returning-a-view-versus-a-copy\n",
      "  after removing the cwd from sys.path.\n"
     ]
    }
   ],
   "source": [
    "#creating dataframe\n",
    "datatrain_bmri = bmri_close[:train_bmri_close_len]\n",
    "datavalid_bmri = bmri_close[train_bmri_close_len:]\n",
    "datavalid_bmri['Predictions'] = prediction_bmri"
   ]
  },
  {
   "cell_type": "code",
   "execution_count": 97,
   "metadata": {
    "colab": {
     "base_uri": "https://localhost:8080/",
     "height": 760
    },
    "id": "ngKLipWbNzIq",
    "outputId": "67f51432-c4d1-4649-921c-6380e3df5ffd"
   },
   "outputs": [
    {
     "name": "stderr",
     "output_type": "stream",
     "text": [
      "/usr/local/lib/python3.6/dist-packages/ipykernel_launcher.py:7: MatplotlibDeprecationWarning: Unrecognized location 'lower_right'. Falling back on 'best'; valid locations are\n",
      "\tbest\n",
      "\tupper right\n",
      "\tupper left\n",
      "\tlower left\n",
      "\tlower right\n",
      "\tright\n",
      "\tcenter left\n",
      "\tcenter right\n",
      "\tlower center\n",
      "\tupper center\n",
      "\tcenter\n",
      "This will raise an exception in 3.3.\n",
      "  import sys\n"
     ]
    },
    {
     "data": {
      "image/png": "[encoded data removed]",
      "text/plain": [
       "<Figure size 1152x576 with 1 Axes>"
      ]
     },
     "metadata": {
      "needs_background": "light",
      "tags": []
     },
     "output_type": "display_data"
    }
   ],
   "source": [
    "plt.figure(figsize=(16,8))\n",
    "plt.title('Prediction Model of BMRI Stock Price', fontsize=25)\n",
    "plt.xlabel('Time',fontsize=18)\n",
    "plt.ylabel('Closing Price (IDR)', fontsize=18)\n",
    "plt.plot(datatrain_bmri['Close'])\n",
    "plt.plot(datavalid_bmri[['Close', 'Predictions']])\n",
    "plt.legend(['Train', 'Val', 'Predict'], loc='lower_right')\n",
    "plt.show()"
   ]
  },
  {
   "cell_type": "code",
   "execution_count": 98,
   "metadata": {
    "colab": {
     "base_uri": "https://localhost:8080/",
     "height": 34
    },
    "id": "FNIYc0uuNyAB",
    "outputId": "85589820-a0e7-45a3-ac82-b9555dc52d33"
   },
   "outputs": [
    {
     "name": "stdout",
     "output_type": "stream",
     "text": [
      "[[3319.974]]\n"
     ]
    }
   ],
   "source": [
    "bmri_quote = web.DataReader('BMRI.jk', data_source='yahoo',\n",
    "                            start='2020-01-01',\n",
    "                            end='2020-10-25')\n",
    "new_df_bmri = bmri_quote.filter(['Close'])\n",
    "bmri_last_60_days = new_df_bmri[-60:].values\n",
    "bmri_last_60_days_scaled = scaler.transform(bmri_last_60_days)\n",
    "bmri_x_test = []\n",
    "bmri_x_test.append(bmri_last_60_days_scaled)\n",
    "bmri_x_test = np.array(bmri_x_test)\n",
    "bmri_x_test = np.reshape(bmri_x_test,\n",
    "                    (bmri_x_test.shape[0],\n",
    "                   bmri_x_test.shape[1], 1))\n",
    "pred_price_bmri = model_bmri.predict(bmri_x_test)\n",
    "pred_price_bmri = scaler.inverse_transform(pred_price_bmri)\n",
    "print(pred_price_bmri)"
   ]
  },
  {
   "cell_type": "markdown",
   "metadata": {
    "id": "Og1fgibdA8C_"
   },
   "source": [
    "## **BBCA**"
   ]
  },
  {
   "cell_type": "code",
   "execution_count": 99,
   "metadata": {
    "colab": {
     "base_uri": "https://localhost:8080/",
     "height": 139
    },
    "id": "lj2zEQ6PN0rT",
    "outputId": "db3a50df-4e30-4957-a23b-1e9b44c2209b"
   },
   "outputs": [
    {
     "name": "stderr",
     "output_type": "stream",
     "text": [
      "/usr/local/lib/python3.6/dist-packages/ipykernel_launcher.py:4: SettingWithCopyWarning: \n",
      "A value is trying to be set on a copy of a slice from a DataFrame.\n",
      "Try using .loc[row_indexer,col_indexer] = value instead\n",
      "\n",
      "See the caveats in the documentation: https://pandas.pydata.org/pandas-docs/stable/user_guide/indexing.html#returning-a-view-versus-a-copy\n",
      "  after removing the cwd from sys.path.\n"
     ]
    }
   ],
   "source": [
    "#creating dataframe\n",
    "datatrain_bbca = bbca_close[:train_bbca_close_len]\n",
    "datavalid_bbca = bbca_close[train_bbca_close_len:]\n",
    "datavalid_bbca['Predictions'] = prediction_bbca"
   ]
  },
  {
   "cell_type": "code",
   "execution_count": 100,
   "metadata": {
    "colab": {
     "base_uri": "https://localhost:8080/",
     "height": 757
    },
    "id": "TtO7hV7qN1Zz",
    "outputId": "c7749772-187e-49bf-d395-f7dc3d41587c"
   },
   "outputs": [
    {
     "name": "stderr",
     "output_type": "stream",
     "text": [
      "/usr/local/lib/python3.6/dist-packages/ipykernel_launcher.py:7: MatplotlibDeprecationWarning: Unrecognized location 'lower_right'. Falling back on 'best'; valid locations are\n",
      "\tbest\n",
      "\tupper right\n",
      "\tupper left\n",
      "\tlower left\n",
      "\tlower right\n",
      "\tright\n",
      "\tcenter left\n",
      "\tcenter right\n",
      "\tlower center\n",
      "\tupper center\n",
      "\tcenter\n",
      "This will raise an exception in 3.3.\n",
      "  import sys\n"
     ]
    },
    {
     "data": {
      "image/png": "[encoded data removed]",
      "text/plain": [
       "<Figure size 1152x576 with 1 Axes>"
      ]
     },
     "metadata": {
      "needs_background": "light",
      "tags": []
     },
     "output_type": "display_data"
    }
   ],
   "source": [
    "plt.figure(figsize=(16,8))\n",
    "plt.title('Prediction Model of BBCA Stock Price', fontsize=25)\n",
    "plt.xlabel('Time',fontsize=18)\n",
    "plt.ylabel('Closing Price (IDR)', fontsize=18)\n",
    "plt.plot(datatrain_bbca['Close'])\n",
    "plt.plot(datavalid_bbca[['Close', 'Predictions']])\n",
    "plt.legend(['Train', 'Val', 'Predict'], loc='lower_right')\n",
    "plt.show()"
   ]
  },
  {
   "cell_type": "code",
   "execution_count": 101,
   "metadata": {
    "colab": {
     "base_uri": "https://localhost:8080/",
     "height": 34
    },
    "id": "uIBLbuo0N0YK",
    "outputId": "0c31d632-8328-4d13-e25e-acca460a0462"
   },
   "outputs": [
    {
     "name": "stdout",
     "output_type": "stream",
     "text": [
      "[[3241.474]]\n"
     ]
    }
   ],
   "source": [
    "bbca_quote = web.DataReader('BBCA.jk', data_source='yahoo',\n",
    "                            start='2020-01-01',\n",
    "                            end='2020-10-25')\n",
    "new_df_bbca = bbca_quote.filter(['Close'])\n",
    "bbca_last_60_days = new_df_bbca[-60:].values\n",
    "bbca_last_60_days_scaled = scaler.transform(bbca_last_60_days)\n",
    "bbca_x_test = []\n",
    "bbca_x_test.append(bbca_last_60_days_scaled)\n",
    "bbca_x_test = np.array(bbca_x_test)\n",
    "bbca_x_test = np.reshape(bbca_x_test,\n",
    "                    (bbca_x_test.shape[0],\n",
    "                   bbca_x_test.shape[1], 1))\n",
    "pred_price_bbca = model_bbca.predict(bbca_x_test)\n",
    "pred_price_bbca = scaler.inverse_transform(pred_price_bbca)\n",
    "print(pred_price_bbca)"
   ]
  },
  {
   "cell_type": "markdown",
   "metadata": {
    "id": "XuusoLaIBBHq"
   },
   "source": [
    "## **BNGA**"
   ]
  },
  {
   "cell_type": "code",
   "execution_count": 102,
   "metadata": {
    "colab": {
     "base_uri": "https://localhost:8080/",
     "height": 139
    },
    "id": "CfV263h5N2-o",
    "outputId": "c7d5b27f-5fce-4178-9cc9-32c0c77dc73b"
   },
   "outputs": [
    {
     "name": "stderr",
     "output_type": "stream",
     "text": [
      "/usr/local/lib/python3.6/dist-packages/ipykernel_launcher.py:4: SettingWithCopyWarning: \n",
      "A value is trying to be set on a copy of a slice from a DataFrame.\n",
      "Try using .loc[row_indexer,col_indexer] = value instead\n",
      "\n",
      "See the caveats in the documentation: https://pandas.pydata.org/pandas-docs/stable/user_guide/indexing.html#returning-a-view-versus-a-copy\n",
      "  after removing the cwd from sys.path.\n"
     ]
    }
   ],
   "source": [
    "#creating dataframe\n",
    "datatrain_bnga = bnga_close[:train_bnga_close_len]\n",
    "datavalid_bnga = bnga_close[train_bnga_close_len:]\n",
    "datavalid_bnga['Predictions'] = prediction_bnga"
   ]
  },
  {
   "cell_type": "code",
   "execution_count": 103,
   "metadata": {
    "colab": {
     "base_uri": "https://localhost:8080/",
     "height": 760
    },
    "id": "iUwpYB4gN3Y8",
    "outputId": "c859f898-46f0-4bf0-a38a-feca4f9eaf1d"
   },
   "outputs": [
    {
     "name": "stderr",
     "output_type": "stream",
     "text": [
      "/usr/local/lib/python3.6/dist-packages/ipykernel_launcher.py:7: MatplotlibDeprecationWarning: Unrecognized location 'lower_right'. Falling back on 'best'; valid locations are\n",
      "\tbest\n",
      "\tupper right\n",
      "\tupper left\n",
      "\tlower left\n",
      "\tlower right\n",
      "\tright\n",
      "\tcenter left\n",
      "\tcenter right\n",
      "\tlower center\n",
      "\tupper center\n",
      "\tcenter\n",
      "This will raise an exception in 3.3.\n",
      "  import sys\n"
     ]
    },
    {
     "data": {
      "image/png": "[encoded data removed]",
      "text/plain": [
       "<Figure size 1152x576 with 1 Axes>"
      ]
     },
     "metadata": {
      "needs_background": "light",
      "tags": []
     },
     "output_type": "display_data"
    }
   ],
   "source": [
    "plt.figure(figsize=(16,8))\n",
    "plt.title('Prediction Model of BNGA Stock Price', fontsize=25)\n",
    "plt.xlabel('Time',fontsize=18)\n",
    "plt.ylabel('Closing Price (IDR)', fontsize=18)\n",
    "plt.plot(datatrain_bnga['Close'])\n",
    "plt.plot(datavalid_bnga[['Close', 'Predictions']])\n",
    "plt.legend(['Train', 'Val', 'Predict'], loc='lower_right')\n",
    "plt.show()"
   ]
  },
  {
   "cell_type": "code",
   "execution_count": 104,
   "metadata": {
    "colab": {
     "base_uri": "https://localhost:8080/",
     "height": 34
    },
    "id": "1-x41KnAN2uI",
    "outputId": "3f113d0c-6ef5-4b9f-dd8c-defa1808aba0"
   },
   "outputs": [
    {
     "name": "stdout",
     "output_type": "stream",
     "text": [
      "[[746.50446]]\n"
     ]
    }
   ],
   "source": [
    "bnga_quote = web.DataReader('BNGA.jk', data_source='yahoo',\n",
    "                            start='2020-01-01',\n",
    "                            end='2020-10-25')\n",
    "new_df_bnga = bnga_quote.filter(['Close'])\n",
    "bnga_last_60_days = new_df_bnga[-60:].values\n",
    "bnga_last_60_days_scaled = scaler.transform(bnga_last_60_days)\n",
    "bnga_x_test = []\n",
    "bnga_x_test.append(bnga_last_60_days_scaled)\n",
    "bnga_x_test = np.array(bnga_x_test)\n",
    "bnga_x_test = np.reshape(bnga_x_test,\n",
    "                    (bnga_x_test.shape[0],\n",
    "                   bnga_x_test.shape[1], 1))\n",
    "pred_price_bnga = model_bnga.predict(bnga_x_test)\n",
    "pred_price_bnga = scaler.inverse_transform(pred_price_bnga)\n",
    "print(pred_price_bnga)"
   ]
  },
  {
   "cell_type": "markdown",
   "metadata": {
    "id": "z6TGHspPSpkZ"
   },
   "source": [
    "# **How much value do we put at risk by investing in a particular stock?**"
   ]
  },
  {
   "cell_type": "code",
   "execution_count": 106,
   "metadata": {
    "colab": {
     "base_uri": "https://localhost:8080/",
     "height": 450
    },
    "id": "eeLVuUCVTGg9",
    "outputId": "63596012-9467-434e-d58b-9e1486df92ef"
   },
   "outputs": [
    {
     "data": {
      "text/html": [
       "<div>\n",
       "<style scoped>\n",
       "    .dataframe tbody tr th:only-of-type {\n",
       "        vertical-align: middle;\n",
       "    }\n",
       "\n",
       "    .dataframe tbody tr th {\n",
       "        vertical-align: top;\n",
       "    }\n",
       "\n",
       "    .dataframe thead th {\n",
       "        text-align: right;\n",
       "    }\n",
       "</style>\n",
       "<table border=\"1\" class=\"dataframe\">\n",
       "  <thead>\n",
       "    <tr style=\"text-align: right;\">\n",
       "      <th>Symbols</th>\n",
       "      <th>BBRI.jk</th>\n",
       "      <th>BBNI.jk</th>\n",
       "      <th>BMRI.jk</th>\n",
       "      <th>BBCA.jk</th>\n",
       "      <th>BNGA.jk</th>\n",
       "    </tr>\n",
       "    <tr>\n",
       "      <th>Date</th>\n",
       "      <th></th>\n",
       "      <th></th>\n",
       "      <th></th>\n",
       "      <th></th>\n",
       "      <th></th>\n",
       "    </tr>\n",
       "  </thead>\n",
       "  <tbody>\n",
       "    <tr>\n",
       "      <th>2003-12-23</th>\n",
       "      <td>125.0</td>\n",
       "      <td>1232.400024</td>\n",
       "      <td>503.942993</td>\n",
       "      <td>NaN</td>\n",
       "      <td>395.984985</td>\n",
       "    </tr>\n",
       "    <tr>\n",
       "      <th>2003-12-29</th>\n",
       "      <td>125.0</td>\n",
       "      <td>1303.500000</td>\n",
       "      <td>503.942993</td>\n",
       "      <td>NaN</td>\n",
       "      <td>400.385010</td>\n",
       "    </tr>\n",
       "    <tr>\n",
       "      <th>2003-12-30</th>\n",
       "      <td>125.0</td>\n",
       "      <td>1232.400024</td>\n",
       "      <td>491.652008</td>\n",
       "      <td>NaN</td>\n",
       "      <td>395.984985</td>\n",
       "    </tr>\n",
       "    <tr>\n",
       "      <th>2004-01-02</th>\n",
       "      <td>127.5</td>\n",
       "      <td>1232.400024</td>\n",
       "      <td>491.652008</td>\n",
       "      <td>NaN</td>\n",
       "      <td>387.186005</td>\n",
       "    </tr>\n",
       "    <tr>\n",
       "      <th>2004-01-05</th>\n",
       "      <td>127.5</td>\n",
       "      <td>1232.400024</td>\n",
       "      <td>516.234009</td>\n",
       "      <td>NaN</td>\n",
       "      <td>387.186005</td>\n",
       "    </tr>\n",
       "    <tr>\n",
       "      <th>...</th>\n",
       "      <td>...</td>\n",
       "      <td>...</td>\n",
       "      <td>...</td>\n",
       "      <td>...</td>\n",
       "      <td>...</td>\n",
       "    </tr>\n",
       "    <tr>\n",
       "      <th>2020-10-19</th>\n",
       "      <td>3280.0</td>\n",
       "      <td>4890.000000</td>\n",
       "      <td>5700.000000</td>\n",
       "      <td>29500.0</td>\n",
       "      <td>765.000000</td>\n",
       "    </tr>\n",
       "    <tr>\n",
       "      <th>2020-10-20</th>\n",
       "      <td>3250.0</td>\n",
       "      <td>4810.000000</td>\n",
       "      <td>5650.000000</td>\n",
       "      <td>29025.0</td>\n",
       "      <td>760.000000</td>\n",
       "    </tr>\n",
       "    <tr>\n",
       "      <th>2020-10-21</th>\n",
       "      <td>3240.0</td>\n",
       "      <td>4880.000000</td>\n",
       "      <td>5525.000000</td>\n",
       "      <td>28900.0</td>\n",
       "      <td>755.000000</td>\n",
       "    </tr>\n",
       "    <tr>\n",
       "      <th>2020-10-22</th>\n",
       "      <td>3300.0</td>\n",
       "      <td>4860.000000</td>\n",
       "      <td>5450.000000</td>\n",
       "      <td>29000.0</td>\n",
       "      <td>750.000000</td>\n",
       "    </tr>\n",
       "    <tr>\n",
       "      <th>2020-10-23</th>\n",
       "      <td>3290.0</td>\n",
       "      <td>4850.000000</td>\n",
       "      <td>5550.000000</td>\n",
       "      <td>28850.0</td>\n",
       "      <td>755.000000</td>\n",
       "    </tr>\n",
       "  </tbody>\n",
       "</table>\n",
       "<p>4186 rows × 5 columns</p>\n",
       "</div>"
      ],
      "text/plain": [
       "Symbols     BBRI.jk      BBNI.jk      BMRI.jk  BBCA.jk     BNGA.jk\n",
       "Date                                                              \n",
       "2003-12-23    125.0  1232.400024   503.942993      NaN  395.984985\n",
       "2003-12-29    125.0  1303.500000   503.942993      NaN  400.385010\n",
       "2003-12-30    125.0  1232.400024   491.652008      NaN  395.984985\n",
       "2004-01-02    127.5  1232.400024   491.652008      NaN  387.186005\n",
       "2004-01-05    127.5  1232.400024   516.234009      NaN  387.186005\n",
       "...             ...          ...          ...      ...         ...\n",
       "2020-10-19   3280.0  4890.000000  5700.000000  29500.0  765.000000\n",
       "2020-10-20   3250.0  4810.000000  5650.000000  29025.0  760.000000\n",
       "2020-10-21   3240.0  4880.000000  5525.000000  28900.0  755.000000\n",
       "2020-10-22   3300.0  4860.000000  5450.000000  29000.0  750.000000\n",
       "2020-10-23   3290.0  4850.000000  5550.000000  28850.0  755.000000\n",
       "\n",
       "[4186 rows x 5 columns]"
      ]
     },
     "execution_count": 106,
     "metadata": {
      "tags": []
     },
     "output_type": "execute_result"
    }
   ],
   "source": [
    "from pandas_datareader.data import DataReader\n",
    "\n",
    "banks_list = ['BBRI.jk', 'BBNI.jk', 'BMRI.jk', 'BBCA.jk', 'BNGA.jk']\n",
    "\n",
    "start = '2003-12-23'\n",
    "end = '2020-10-23'\n",
    "\n",
    "bank_close = DataReader(banks_list, 'yahoo', start, end)['Close']\n",
    "bank_close"
   ]
  },
  {
   "cell_type": "code",
   "execution_count": 107,
   "metadata": {
    "colab": {
     "base_uri": "https://localhost:8080/",
     "height": 450
    },
    "id": "buXVbwDCVF8E",
    "outputId": "98960f9a-e440-44c1-d719-c358b8bd4923"
   },
   "outputs": [
    {
     "data": {
      "text/html": [
       "<div>\n",
       "<style scoped>\n",
       "    .dataframe tbody tr th:only-of-type {\n",
       "        vertical-align: middle;\n",
       "    }\n",
       "\n",
       "    .dataframe tbody tr th {\n",
       "        vertical-align: top;\n",
       "    }\n",
       "\n",
       "    .dataframe thead th {\n",
       "        text-align: right;\n",
       "    }\n",
       "</style>\n",
       "<table border=\"1\" class=\"dataframe\">\n",
       "  <thead>\n",
       "    <tr style=\"text-align: right;\">\n",
       "      <th>Symbols</th>\n",
       "      <th>BBRI.jk</th>\n",
       "      <th>BBNI.jk</th>\n",
       "      <th>BMRI.jk</th>\n",
       "      <th>BBCA.jk</th>\n",
       "      <th>BNGA.jk</th>\n",
       "    </tr>\n",
       "    <tr>\n",
       "      <th>Date</th>\n",
       "      <th></th>\n",
       "      <th></th>\n",
       "      <th></th>\n",
       "      <th></th>\n",
       "      <th></th>\n",
       "    </tr>\n",
       "  </thead>\n",
       "  <tbody>\n",
       "    <tr>\n",
       "      <th>2003-12-23</th>\n",
       "      <td>NaN</td>\n",
       "      <td>NaN</td>\n",
       "      <td>NaN</td>\n",
       "      <td>NaN</td>\n",
       "      <td>NaN</td>\n",
       "    </tr>\n",
       "    <tr>\n",
       "      <th>2003-12-29</th>\n",
       "      <td>0.000000</td>\n",
       "      <td>0.057692</td>\n",
       "      <td>0.000000</td>\n",
       "      <td>NaN</td>\n",
       "      <td>0.011112</td>\n",
       "    </tr>\n",
       "    <tr>\n",
       "      <th>2003-12-30</th>\n",
       "      <td>0.000000</td>\n",
       "      <td>-0.054545</td>\n",
       "      <td>-0.024390</td>\n",
       "      <td>NaN</td>\n",
       "      <td>-0.010989</td>\n",
       "    </tr>\n",
       "    <tr>\n",
       "      <th>2004-01-02</th>\n",
       "      <td>0.020000</td>\n",
       "      <td>0.000000</td>\n",
       "      <td>0.000000</td>\n",
       "      <td>NaN</td>\n",
       "      <td>-0.022220</td>\n",
       "    </tr>\n",
       "    <tr>\n",
       "      <th>2004-01-05</th>\n",
       "      <td>0.000000</td>\n",
       "      <td>0.000000</td>\n",
       "      <td>0.049999</td>\n",
       "      <td>NaN</td>\n",
       "      <td>0.000000</td>\n",
       "    </tr>\n",
       "    <tr>\n",
       "      <th>...</th>\n",
       "      <td>...</td>\n",
       "      <td>...</td>\n",
       "      <td>...</td>\n",
       "      <td>...</td>\n",
       "      <td>...</td>\n",
       "    </tr>\n",
       "    <tr>\n",
       "      <th>2020-10-19</th>\n",
       "      <td>0.009231</td>\n",
       "      <td>0.016632</td>\n",
       "      <td>0.022422</td>\n",
       "      <td>0.024306</td>\n",
       "      <td>0.013245</td>\n",
       "    </tr>\n",
       "    <tr>\n",
       "      <th>2020-10-20</th>\n",
       "      <td>-0.009146</td>\n",
       "      <td>-0.016360</td>\n",
       "      <td>-0.008772</td>\n",
       "      <td>-0.016102</td>\n",
       "      <td>-0.006536</td>\n",
       "    </tr>\n",
       "    <tr>\n",
       "      <th>2020-10-21</th>\n",
       "      <td>-0.003077</td>\n",
       "      <td>0.014553</td>\n",
       "      <td>-0.022124</td>\n",
       "      <td>-0.004307</td>\n",
       "      <td>-0.006579</td>\n",
       "    </tr>\n",
       "    <tr>\n",
       "      <th>2020-10-22</th>\n",
       "      <td>0.018519</td>\n",
       "      <td>-0.004098</td>\n",
       "      <td>-0.013575</td>\n",
       "      <td>0.003460</td>\n",
       "      <td>-0.006623</td>\n",
       "    </tr>\n",
       "    <tr>\n",
       "      <th>2020-10-23</th>\n",
       "      <td>-0.003030</td>\n",
       "      <td>-0.002058</td>\n",
       "      <td>0.018349</td>\n",
       "      <td>-0.005172</td>\n",
       "      <td>0.006667</td>\n",
       "    </tr>\n",
       "  </tbody>\n",
       "</table>\n",
       "<p>4186 rows × 5 columns</p>\n",
       "</div>"
      ],
      "text/plain": [
       "Symbols      BBRI.jk   BBNI.jk   BMRI.jk   BBCA.jk   BNGA.jk\n",
       "Date                                                        \n",
       "2003-12-23       NaN       NaN       NaN       NaN       NaN\n",
       "2003-12-29  0.000000  0.057692  0.000000       NaN  0.011112\n",
       "2003-12-30  0.000000 -0.054545 -0.024390       NaN -0.010989\n",
       "2004-01-02  0.020000  0.000000  0.000000       NaN -0.022220\n",
       "2004-01-05  0.000000  0.000000  0.049999       NaN  0.000000\n",
       "...              ...       ...       ...       ...       ...\n",
       "2020-10-19  0.009231  0.016632  0.022422  0.024306  0.013245\n",
       "2020-10-20 -0.009146 -0.016360 -0.008772 -0.016102 -0.006536\n",
       "2020-10-21 -0.003077  0.014553 -0.022124 -0.004307 -0.006579\n",
       "2020-10-22  0.018519 -0.004098 -0.013575  0.003460 -0.006623\n",
       "2020-10-23 -0.003030 -0.002058  0.018349 -0.005172  0.006667\n",
       "\n",
       "[4186 rows x 5 columns]"
      ]
     },
     "execution_count": 107,
     "metadata": {
      "tags": []
     },
     "output_type": "execute_result"
    }
   ],
   "source": [
    "# Make a new bank returns DataFrame\n",
    "bank_rets = bank_close.pct_change()\n",
    "bank_rets"
   ]
  },
  {
   "cell_type": "code",
   "execution_count": 108,
   "metadata": {
    "colab": {
     "base_uri": "https://localhost:8080/",
     "height": 640
    },
    "id": "ppJFFB4QbNjX",
    "outputId": "334689aa-10e0-459b-f7ad-1f6844ba4b79"
   },
   "outputs": [
    {
     "data": {
      "image/png": "[encoded data removed]",
      "text/plain": [
       "<Figure size 864x720 with 1 Axes>"
      ]
     },
     "metadata": {
      "needs_background": "light",
      "tags": []
     },
     "output_type": "display_data"
    }
   ],
   "source": [
    "rets = bank_rets.dropna()\n",
    "\n",
    "area = np.pi*20\n",
    "\n",
    "plt.figure(figsize=(12, 10))\n",
    "plt.scatter(rets.mean(), rets.std(), s=area)\n",
    "plt.xlabel('Expected return')\n",
    "plt.ylabel('Risk')\n",
    "\n",
    "for label, x, y in zip(rets.columns, rets.mean(), rets.std()):\n",
    "    plt.annotate(label, xy=(x, y), xytext=(50, 50), textcoords='offset points', ha='right', va='bottom', \n",
    "                 arrowprops=dict(arrowstyle='-', color='blue', connectionstyle='arc3,rad=-0.3'))"
   ]
  }
 ],
 "metadata": {
  "accelerator": "GPU",
  "colab": {
   "collapsed_sections": [],
   "name": "Challenge 3 - Stock Market Analysis and Prediction of Public and Private Banks in Indonesia.ipynb",
   "provenance": [],
   "toc_visible": true
  },
  "kernelspec": {
   "display_name": "Python 3",
   "language": "python",
   "name": "python3"
  },
  "language_info": {
   "codemirror_mode": {
    "name": "ipython",
    "version": 3
   },
   "file_extension": ".py",
   "mimetype": "text/x-python",
   "name": "python",
   "nbconvert_exporter": "python",
   "pygments_lexer": "ipython3",
   "version": "3.7.6"
  }
 },
 "nbformat": 4,
 "nbformat_minor": 1
}
